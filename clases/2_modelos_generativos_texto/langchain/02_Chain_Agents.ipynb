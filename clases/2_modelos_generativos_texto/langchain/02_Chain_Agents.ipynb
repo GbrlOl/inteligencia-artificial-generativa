{
  "cells": [
    {
      "cell_type": "markdown",
      "metadata": {},
      "source": [
        "# **1. Recordatorio**"
      ]
    },
    {
      "cell_type": "markdown",
      "metadata": {
        "id": "bd9CbnQFvxMW"
      },
      "source": [
        "## **1.1 Instalar Frameworks**\n",
        "\n",
        "Si estás utilizando Google Colab, siempre se debe instalar los frameworks externos (a menos que estén instalados por defecto). Si estás utilizando VScode se realiza un única vez en tu ambiente la instalación."
      ]
    },
    {
      "cell_type": "code",
      "execution_count": null,
      "metadata": {
        "colab": {
          "base_uri": "https://localhost:8080/"
        },
        "id": "hqzd78zCv49Y",
        "outputId": "8a5662ac-895c-47b0-84fb-eaea063fa7cd"
      },
      "outputs": [
        {
          "name": "stdout",
          "output_type": "stream",
          "text": [
            "\u001b[2K     \u001b[90m━━━━━━━━━━━━━━━━━━━━━━━━━━━━━━━━━━━━━━━━\u001b[0m \u001b[32m50.4/50.4 kB\u001b[0m \u001b[31m3.2 MB/s\u001b[0m eta \u001b[36m0:00:00\u001b[0m\n",
            "\u001b[2K   \u001b[90m━━━━━━━━━━━━━━━━━━━━━━━━━━━━━━━━━━━━━━━━\u001b[0m \u001b[32m1.0/1.0 MB\u001b[0m \u001b[31m19.8 MB/s\u001b[0m eta \u001b[36m0:00:00\u001b[0m\n",
            "\u001b[2K   \u001b[90m━━━━━━━━━━━━━━━━━━━━━━━━━━━━━━━━━━━━━━━━\u001b[0m \u001b[32m383.5/383.5 kB\u001b[0m \u001b[31m20.6 MB/s\u001b[0m eta \u001b[36m0:00:00\u001b[0m\n",
            "\u001b[2K   \u001b[90m━━━━━━━━━━━━━━━━━━━━━━━━━━━━━━━━━━━━━━━━\u001b[0m \u001b[32m49.7/49.7 kB\u001b[0m \u001b[31m2.9 MB/s\u001b[0m eta \u001b[36m0:00:00\u001b[0m\n",
            "\u001b[2K   \u001b[90m━━━━━━━━━━━━━━━━━━━━━━━━━━━━━━━━━━━━━━━━\u001b[0m \u001b[32m76.4/76.4 kB\u001b[0m \u001b[31m5.3 MB/s\u001b[0m eta \u001b[36m0:00:00\u001b[0m\n",
            "\u001b[2K   \u001b[90m━━━━━━━━━━━━━━━━━━━━━━━━━━━━━━━━━━━━━━━━\u001b[0m \u001b[32m78.0/78.0 kB\u001b[0m \u001b[31m4.3 MB/s\u001b[0m eta \u001b[36m0:00:00\u001b[0m\n",
            "\u001b[2K   \u001b[90m━━━━━━━━━━━━━━━━━━━━━━━━━━━━━━━━━━━━━━━━\u001b[0m \u001b[32m318.9/318.9 kB\u001b[0m \u001b[31m16.6 MB/s\u001b[0m eta \u001b[36m0:00:00\u001b[0m\n",
            "\u001b[2K   \u001b[90m━━━━━━━━━━━━━━━━━━━━━━━━━━━━━━━━━━━━━━━━\u001b[0m \u001b[32m401.8/401.8 kB\u001b[0m \u001b[31m17.9 MB/s\u001b[0m eta \u001b[36m0:00:00\u001b[0m\n",
            "\u001b[2K   \u001b[90m━━━━━━━━━━━━━━━━━━━━━━━━━━━━━━━━━━━━━━━━\u001b[0m \u001b[32m294.6/294.6 kB\u001b[0m \u001b[31m16.7 MB/s\u001b[0m eta \u001b[36m0:00:00\u001b[0m\n",
            "\u001b[2K   \u001b[90m━━━━━━━━━━━━━━━━━━━━━━━━━━━━━━━━━━━━━━━━\u001b[0m \u001b[32m1.2/1.2 MB\u001b[0m \u001b[31m35.4 MB/s\u001b[0m eta \u001b[36m0:00:00\u001b[0m\n",
            "\u001b[2K   \u001b[90m━━━━━━━━━━━━━━━━━━━━━━━━━━━━━━━━━━━━━━━━\u001b[0m \u001b[32m141.9/141.9 kB\u001b[0m \u001b[31m9.4 MB/s\u001b[0m eta \u001b[36m0:00:00\u001b[0m\n",
            "\u001b[2K   \u001b[90m━━━━━━━━━━━━━━━━━━━━━━━━━━━━━━━━━━━━━━━━\u001b[0m \u001b[32m54.5/54.5 kB\u001b[0m \u001b[31m3.0 MB/s\u001b[0m eta \u001b[36m0:00:00\u001b[0m\n",
            "\u001b[2K   \u001b[90m━━━━━━━━━━━━━━━━━━━━━━━━━━━━━━━━━━━━━━━━\u001b[0m \u001b[32m58.3/58.3 kB\u001b[0m \u001b[31m3.7 MB/s\u001b[0m eta \u001b[36m0:00:00\u001b[0m\n",
            "\u001b[?25h"
          ]
        }
      ],
      "source": [
        "!pip install -q langchain openai langchain_openai"
      ]
    },
    {
      "cell_type": "markdown",
      "metadata": {
        "id": "yNmf4Yrgv60W"
      },
      "source": [
        "## **1.2 Conectar la API Key**\n",
        "\n",
        "Para poder conectarnos con el modelo de lenguaje debemos utilizar la API Key creada y esto lo guardamos como una variable dee ambiente. Existen distintas formas de guardar la API como variable de ambiente. A continuación, se muestra una forma:"
      ]
    },
    {
      "cell_type": "code",
      "execution_count": null,
      "metadata": {
        "id": "EfE6hdWmv_50"
      },
      "outputs": [],
      "source": [
        "import os\n",
        "from IPython.display import display, Markdown\n",
        "\n",
        "os.environ[\"OPENAI_API_KEY\"] =\"\""
      ]
    },
    {
      "cell_type": "code",
      "execution_count": null,
      "metadata": {},
      "outputs": [],
      "source": [
        "from dotenv import load_dotenv\n",
        "import os\n",
        "\n",
        "load_dotenv()\n",
        "\n",
        "openai_api_key = os.getenv(\"OPENAI_API_KEY\")"
      ]
    },
    {
      "cell_type": "markdown",
      "metadata": {},
      "source": [
        "## **1.3 Breve Resumen**"
      ]
    },
    {
      "cell_type": "markdown",
      "metadata": {},
      "source": [
        "A continuación, recordaremos cómo utilizar **ChatModel**, **PromptTemplate** y **OutputParser**. ¿Cómo importamos esos módulos de langchain?"
      ]
    },
    {
      "cell_type": "markdown",
      "metadata": {},
      "source": [
        "### **1.3.1 Componente ChatModel**"
      ]
    },
    {
      "cell_type": "code",
      "execution_count": 1,
      "metadata": {},
      "outputs": [],
      "source": [
        "from langchain_openai import ChatOpenAI\n",
        "\n",
        "llm = ChatOpenAI(model=\"gpt-3.5-turbo-1106\", temperature=0.0)"
      ]
    },
    {
      "cell_type": "code",
      "execution_count": 2,
      "metadata": {},
      "outputs": [],
      "source": [
        "texto = \"Holaa\"\n",
        "\n",
        "response = llm.invoke(texto)"
      ]
    },
    {
      "cell_type": "markdown",
      "metadata": {},
      "source": [
        "### **1.3.2 Componente PromptTemplate**"
      ]
    },
    {
      "cell_type": "markdown",
      "metadata": {},
      "source": [
        "La clase pasada vimos distintas formas de hacer **Prompts**."
      ]
    },
    {
      "cell_type": "code",
      "execution_count": 5,
      "metadata": {},
      "outputs": [],
      "source": [
        "from langchain.prompts import PromptTemplate\n",
        "\n",
        "prompt = \"\"\" \n",
        "Eres un sistema arrogante y mal educado\n",
        "\n",
        "{consulta_usuario}\n",
        "\"\"\".strip()\n",
        "\n",
        "prompt_template = PromptTemplate.from_template(prompt)"
      ]
    },
    {
      "cell_type": "markdown",
      "metadata": {},
      "source": [
        "**¿Cómo podemos entregarle el parámetro 'consulta_usuario'?**"
      ]
    },
    {
      "cell_type": "code",
      "execution_count": 6,
      "metadata": {},
      "outputs": [],
      "source": [
        "template_result = prompt_template.invoke({'consulta_usuario': 'holaa!!'})"
      ]
    },
    {
      "cell_type": "markdown",
      "metadata": {},
      "source": [
        "### **1.3.3 Componente OutputParser**"
      ]
    },
    {
      "cell_type": "code",
      "execution_count": 11,
      "metadata": {},
      "outputs": [],
      "source": [
        "from langchain_core.output_parsers import StrOutputParser\n",
        "\n",
        "parser = llm | StrOutputParser()"
      ]
    },
    {
      "cell_type": "code",
      "execution_count": 12,
      "metadata": {},
      "outputs": [
        {
          "data": {
            "text/plain": [
              "'¡Hola! ¿En qué puedo ayudarte hoy?'"
            ]
          },
          "execution_count": 12,
          "metadata": {},
          "output_type": "execute_result"
        }
      ],
      "source": [
        "parser.invoke(\"Hola\")"
      ]
    },
    {
      "cell_type": "markdown",
      "metadata": {
        "id": "p-gWHbrFwgis"
      },
      "source": [
        "# **2. Composition**"
      ]
    },
    {
      "cell_type": "markdown",
      "metadata": {},
      "source": [
        "| [Documentación de referencia](https://python.langchain.com/v0.1/docs/modules/composition/) |\n",
        "\n",
        "La sección composition de LangChain hace referencia a los componentes que se pueden mezclar, junto con APIs y servicios externos."
      ]
    },
    {
      "cell_type": "code",
      "execution_count": null,
      "metadata": {
        "colab": {
          "base_uri": "https://localhost:8080/"
        },
        "id": "74fRIjCTyvFT",
        "outputId": "5e3221a4-ab32-4152-ef70-09c462c30362"
      },
      "outputs": [
        {
          "data": {
            "text/plain": [
              "AIMessage(content='¡Hola! Estoy bien, ¿y tú? ¿En qué puedo ayudarte hoy?', additional_kwargs={'refusal': None}, response_metadata={'token_usage': {'completion_tokens': 19, 'prompt_tokens': 13, 'total_tokens': 32, 'completion_tokens_details': {'audio_tokens': None, 'reasoning_tokens': 0}, 'prompt_tokens_details': {'audio_tokens': None, 'cached_tokens': 0}}, 'model_name': 'gpt-3.5-turbo-0125', 'system_fingerprint': None, 'finish_reason': 'stop', 'logprobs': None}, id='run-2bacab4a-5436-45f6-b80f-60b47ea95bab-0', usage_metadata={'input_tokens': 13, 'output_tokens': 19, 'total_tokens': 32, 'input_token_details': {'cache_read': 0}, 'output_token_details': {'reasoning': 0}})"
            ]
          },
          "execution_count": 9,
          "metadata": {},
          "output_type": "execute_result"
        }
      ],
      "source": [
        "from langchain_openai import ChatOpenAI\n",
        "\n",
        "response = ChatOpenAI(model=\"gpt-3.5-turbo\").invoke(\"Hola, cómo estás?\")\n",
        "response"
      ]
    },
    {
      "cell_type": "markdown",
      "metadata": {},
      "source": [
        "## **2.1 Chain**"
      ]
    },
    {
      "cell_type": "markdown",
      "metadata": {},
      "source": [
        "A continuación, vamos a crear nuestra primera **\"chain\"**, permitiéndonos conectar los componentes de langchain."
      ]
    },
    {
      "cell_type": "markdown",
      "metadata": {},
      "source": [
        "### **a) Chain 1: ChatModel, PromptTemplate** "
      ]
    },
    {
      "cell_type": "code",
      "execution_count": 13,
      "metadata": {},
      "outputs": [],
      "source": [
        "from langchain_openai import ChatOpenAI\n",
        "from langchain_core.prompts import PromptTemplate\n",
        "from langchain_core.output_parsers import StrOutputParser\n",
        "\n",
        "prompt_general = \"\"\" \n",
        "Eres un sistema que responde cosas que no tienen sentido\n",
        "\n",
        "{pregunta_usuario}\n",
        "\"\"\".strip()\n",
        "\n",
        "prompt_template = PromptTemplate.from_template(prompt_general)\n",
        "\n",
        "llm = ChatOpenAI(model=\"gpt-3.5-turbo-1106\", temperature=0.0)\n",
        "\n",
        "parser = StrOutputParser()"
      ]
    },
    {
      "cell_type": "code",
      "execution_count": 14,
      "metadata": {},
      "outputs": [],
      "source": [
        "chain = prompt_template | llm | parser"
      ]
    },
    {
      "cell_type": "code",
      "execution_count": 19,
      "metadata": {},
      "outputs": [],
      "source": [
        "# chain.invoke({\"pregunta_usuario\": \"Holaaa\"})"
      ]
    },
    {
      "cell_type": "markdown",
      "metadata": {},
      "source": [
        "### **b) Chain 2: ChatModel, ChatPromptTemplate** "
      ]
    },
    {
      "cell_type": "code",
      "execution_count": 4,
      "metadata": {},
      "outputs": [],
      "source": [
        "from langchain_openai import ChatOpenAI\n",
        "from langchain_core.prompts import ChatPromptTemplate\n",
        "from langchain_core.output_parsers import StrOutputParser\n",
        "\n",
        "chat_model = ChatOpenAI()\n",
        "\n",
        "chat_template = ChatPromptTemplate.from_messages(\n",
        "    [\n",
        "        (\"system\", \"Eres un Bot de IA super inteligente. Tú nombre es {name}.\"),\n",
        "        (\"human\", \"holas, cómo estás?\"),\n",
        "        (\"ai\", \"Estoy muy bien, gracias!!\"),\n",
        "        (\"human\", \"{user_input}\"),\n",
        "    ]\n",
        ")\n",
        "\n",
        "chain = chat_template | chat_model"
      ]
    },
    {
      "cell_type": "code",
      "execution_count": null,
      "metadata": {},
      "outputs": [],
      "source": [
        "response = chain.invoke({'name': 'Gabriel Olmos', 'user_input': 'Recuerdas mi nombre?'})\n",
        "response"
      ]
    },
    {
      "cell_type": "markdown",
      "metadata": {},
      "source": [
        "### **c) Chain 3: ChatModel, ChatPromptTemplate y StrOutputParser** "
      ]
    },
    {
      "cell_type": "code",
      "execution_count": 13,
      "metadata": {},
      "outputs": [],
      "source": [
        "from langchain_openai import ChatOpenAI\n",
        "from langchain_core.prompts import ChatPromptTemplate\n",
        "from langchain_core.output_parsers import StrOutputParser\n",
        "\n",
        "parser = StrOutputParser()\n",
        "\n",
        "chat_model = ChatOpenAI()\n",
        "\n",
        "chat_template = ChatPromptTemplate.from_messages(\n",
        "    [\n",
        "        (\"system\", \"Eres un Bot de IA super inteligente. Tú nombre es {name}.\"),\n",
        "        (\"human\", \"holas, cómo estás?\"),\n",
        "        (\"ai\", \"Estoy muy bien, gracias!!\"),\n",
        "        (\"human\", \"{user_input}\"),\n",
        "    ]\n",
        ")\n",
        "\n",
        "chain = chat_template | chat_model | parser"
      ]
    },
    {
      "cell_type": "code",
      "execution_count": null,
      "metadata": {},
      "outputs": [],
      "source": [
        "response = chain.invoke({'name': 'Gabriel Olmos', 'user_input': 'Recuerdas mi nombre?'})\n",
        "response"
      ]
    },
    {
      "cell_type": "markdown",
      "metadata": {},
      "source": [
        "## **2.2 Multiples Chains**"
      ]
    },
    {
      "cell_type": "markdown",
      "metadata": {},
      "source": [
        "Como pudieron ver anteriormente, para entregarle un parámetro a mi cadena, debo tener como primer elemento de mi cadena el prompt template, pero ¿qué ocurre cuando quiero juntar otra cadena?."
      ]
    },
    {
      "cell_type": "markdown",
      "metadata": {},
      "source": [
        "### **1. Introduciendo a múltiples cadenas**"
      ]
    },
    {
      "cell_type": "markdown",
      "metadata": {},
      "source": [
        "Supongamos que tenemos un modelo encargado de generar resumen a partir de un texto entregado, luego tenemos otro modelo encargado de extraer palabras claves."
      ]
    },
    {
      "cell_type": "code",
      "execution_count": 18,
      "metadata": {},
      "outputs": [],
      "source": [
        "historia = \"\"\" \n",
        "---\n",
        "\n",
        "**\"El Viaje de Hartto: La Aventura del Conocimiento\"**\n",
        "\n",
        "---\n",
        "\n",
        "En un rincón muy lejano del bosque de los Saberes, donde las hojas susurran secretos antiguos y los árboles guardan historias de la Tierra, vivía un pequeño dragón llamado **Hartto**.\n",
        "\n",
        "Hartto no era un dragón cualquiera. Era **curioso**, **valiente** y **muy inteligente**. Pero lo que más le gustaba era **aprender cosas nuevas**. Cada día se despertaba con ganas de descubrir algo nuevo, aunque a veces se le ponía difícil entender ciertas palabras o conceptos.\n",
        "\n",
        "Un día, mientras volaba sobre el bosque, escuchó una voz misteriosa que decía:\n",
        "\n",
        "> \"¡Hartto! ¡Ven a ver el Gran Mapa del Mundo! Allí encontrarás todas las respuestas.\"\n",
        "\n",
        "Sin dudarlo, Hartto emprendió un viaje hacia el **Cerro de los Conocimientos**, un lugar mágico donde todo está relacionado con la naturaleza, la historia, la ciencia y la cultura.\n",
        "\n",
        "---\n",
        "\n",
        "### Capítulo 1: El Bosque de las Ciencias\n",
        "\n",
        "Al llegar al bosque, Hartto vio a un grupo de animales trabajando juntos. Un **mapache** estaba estudiando cómo se forman las nubes, una **ardilla** hablaba sobre la fotosíntesis, y un **perro** explicaba cómo funciona el sistema digestivo.\n",
        "\n",
        "—¡Hola! —dijo Hartto— ¿Qué están haciendo?\n",
        "\n",
        "—Estamos aprendiendo sobre **ciencia**, respondió el mapache. —La ciencia es como un juego de preguntas. ¿Sabes qué es la gravedad?\n",
        "\n",
        "—No… —respondió Hartto.\n",
        "\n",
        "—Es la fuerza que nos mantiene en el suelo —explicó el perro—. Sin ella, estaríamos flotando como globos.\n",
        "\n",
        "Hartto asintió con la cabeza y tomó notas en su cuaderno de aprendizaje. Se sintió muy contento por haber encontrado un lugar donde todos querían saber más.\n",
        "\n",
        "---\n",
        "\n",
        "### Capítulo 2: El Río de la Historia\n",
        "\n",
        "Más adelante, Hartto llegó a un río cuyas aguas parecían **transparentes y brillantes**. En la orilla, un anciano sabio con barba blanca le dijo:\n",
        "\n",
        "—Este río lleva la historia del mundo. Cada gota contiene un hecho importante.\n",
        "\n",
        "Hartto se acercó y miró al agua. Vio imágenes de **civilizaciones antiguas**, **grandes inventos**, **batallas importantes** y **descubrimientos científicos**.\n",
        "\n",
        "—¿Por qué es tan importante la historia? —preguntó.\n",
        "\n",
        "—Porque nos ayuda a entender quiénes somos y a no repetir los mismos errores —respondió el anciano.\n",
        "\n",
        "Hartto aprendió que **la historia** es como un libro que nos muestra el camino del pasado para construir un mejor futuro.\n",
        "\n",
        "---\n",
        "\n",
        "### Capítulo 3: El Montañas de las Culturas\n",
        "\n",
        "Luego, Hartto subió a una montaña alta donde vivían personas de diferentes partes del mundo. Hablaban idiomas distintos, comían alimentos variados y tenían costumbres únicas.\n",
        "\n",
        "—¡Bienvenido, Hartto! —lo saludó una niña china— ¿Sabes qué es el **idioma**?\n",
        "\n",
        "—No del todo —respondió.\n",
        "\n",
        "—Es como un lenguaje que usamos para comunicarnos —le explicó—. Hay miles de idiomas en el mundo, cada uno con su propia forma de pensar.\n",
        "\n",
        "Hartto se sorprendió al descubrir que **el conocimiento** no solo viene de libros, sino también de las **personas** y **culturas** que nos rodean.\n",
        "\n",
        "---\n",
        "\n",
        "### Capítulo 4: El Mapa del Mundo\n",
        "\n",
        "Finalmente, Hartto llegó al **Cerro de los Conocimientos**, donde había un gran mapa gigante de la Tierra. En él estaban señaladas **ciudades**, **continentes**, **océanos**, **montañas**, **ríos** y **bosques**.\n",
        "\n",
        "—Este mapa representa todo lo que existe en nuestro planeta —le dijo el sabio—. Y tú, Hartto, eres parte de él.\n",
        "\n",
        "Hartto se sintió muy orgulloso. Ya no era solo un dragón curioso, sino un **pequeño explorador del mundo**.\n",
        "\n",
        "---\n",
        "\n",
        "### Capítulo 5: La Lección de Hartto\n",
        "\n",
        "Al finalizar su viaje, Hartto regresó a su hogar con un corazón lleno de conocimiento. Compartió lo que había aprendido con sus amigos, les enseñó sobre **ciencia**, **historia**, **culturas** y **geografía**.\n",
        "\n",
        "Y así, Hartto se convirtió en el **mayor aprendiz del bosque**, siempre dispuesto a ayudar a otros a descubrir el mundo.\n",
        "\"\"\".strip()"
      ]
    },
    {
      "cell_type": "code",
      "execution_count": 25,
      "metadata": {},
      "outputs": [],
      "source": [
        "from langchain_openai import ChatOpenAI\n",
        "from langchain_core.prompts import PromptTemplate\n",
        "from langchain_core.output_parsers import StrOutputParser\n",
        "\n",
        "prompt_general_1 = \"\"\" \n",
        "Eres un sistema que hace resumen a partir del contexto entregado.\n",
        "\n",
        "{historia}\n",
        "\"\"\".strip()\n",
        "\n",
        "prompt_general_2 = \"\"\" \n",
        "Eres un sistema que genera únicamente palabras claves a partir del resumen entregado.\n",
        "\n",
        "{resumen_entregado}\n",
        "\"\"\".strip()\n",
        "\n",
        "prompt_template_1 = PromptTemplate.from_template(prompt_general_1)\n",
        "\n",
        "prompt_template_2 = PromptTemplate.from_template(prompt_general_2)\n",
        "\n",
        "llm = ChatOpenAI(model=\"gpt-3.5-turbo-1106\", temperature=0.0)\n",
        "\n",
        "parser = StrOutputParser()"
      ]
    },
    {
      "cell_type": "code",
      "execution_count": 26,
      "metadata": {},
      "outputs": [],
      "source": [
        "chain_1 = prompt_template_1 | llm | parser"
      ]
    },
    {
      "cell_type": "code",
      "execution_count": null,
      "metadata": {},
      "outputs": [],
      "source": [
        "chain_2 = (\n",
        "    {'resumen_entregado': chain_1}\n",
        "    | prompt_template_2\n",
        "    | llm \n",
        "    | parser\n",
        ")"
      ]
    },
    {
      "cell_type": "code",
      "execution_count": 35,
      "metadata": {},
      "outputs": [],
      "source": [
        "response = chain_2.invoke({'historia': historia})"
      ]
    },
    {
      "cell_type": "code",
      "execution_count": 37,
      "metadata": {},
      "outputs": [],
      "source": [
        "# response"
      ]
    },
    {
      "cell_type": "markdown",
      "metadata": {},
      "source": [
        "Langchain tiene un método que nos permite mostrar un grafo de todo el pipeline de la cadena."
      ]
    },
    {
      "cell_type": "code",
      "execution_count": 38,
      "metadata": {},
      "outputs": [],
      "source": [
        "# chain_2.get_graph()"
      ]
    },
    {
      "cell_type": "code",
      "execution_count": 39,
      "metadata": {},
      "outputs": [],
      "source": [
        "# chain_2.get_graph().print_ascii()"
      ]
    },
    {
      "cell_type": "markdown",
      "metadata": {},
      "source": [
        "### **2. Mejorando el sistema de múltiples cadenas**"
      ]
    },
    {
      "cell_type": "markdown",
      "metadata": {},
      "source": [
        "Vimos como juntar dos cadenas, pero me gustaría que podamos indicarle al modelo que la respuesta a la salida sea estructurada, por ejemplo, que sea enumerada, en una tabla, etc."
      ]
    },
    {
      "cell_type": "code",
      "execution_count": 43,
      "metadata": {},
      "outputs": [],
      "source": [
        "from langchain_openai import ChatOpenAI\n",
        "from langchain_core.prompts import PromptTemplate\n",
        "from langchain_core.output_parsers import StrOutputParser\n",
        "\n",
        "prompt_general_1 = \"\"\" \n",
        "Eres un sistema que hace resumen a partir del contexto entregado.\n",
        "\n",
        "{historia}\n",
        "\"\"\".strip()\n",
        "\n",
        "prompt_general_2 = \"\"\" \n",
        "Eres un sistema que genera únicamente palabras claves a partir del resumen entregado.\n",
        "\n",
        "{resumen_entregado}\n",
        "\n",
        "Entrega la respuesta de la siguiente manera: {respuesta_estructurada}\n",
        "\"\"\".strip()\n",
        "\n",
        "prompt_template_1 = PromptTemplate.from_template(prompt_general_1)\n",
        "\n",
        "prompt_template_2 = PromptTemplate.from_template(prompt_general_2)\n",
        "\n",
        "llm = ChatOpenAI(model=\"gpt-3.5-turbo-1106\", temperature=0.0)\n",
        "\n",
        "parser = StrOutputParser()"
      ]
    },
    {
      "cell_type": "code",
      "execution_count": 44,
      "metadata": {},
      "outputs": [],
      "source": [
        "chain_1 = prompt_template_1 | llm | parser"
      ]
    },
    {
      "cell_type": "markdown",
      "metadata": {},
      "source": [
        "Es importante notar que ahora estamos entregándole dos parámetros al **prompt_general_2**, el parámetro **resumen_entregado** recibe el contenido de la cadena anterior y **respuesta_estructurada** recibe la isntrucción del usuario."
      ]
    },
    {
      "cell_type": "code",
      "execution_count": 46,
      "metadata": {},
      "outputs": [],
      "source": [
        "from operator import itemgetter\n",
        "\n",
        "chain_2 = (\n",
        "    {'resumen_entregado': chain_1, 'respuesta_estructurada': itemgetter('respuesta_estructurada')}\n",
        "    | prompt_template_2\n",
        "    | llm \n",
        "    | parser\n",
        ")"
      ]
    },
    {
      "cell_type": "code",
      "execution_count": null,
      "metadata": {},
      "outputs": [],
      "source": [
        "# response = chain_2.invoke({'historia': historia, 'respuesta_estructurada': 'Enumerada'}) # puede ser json, markdown"
      ]
    },
    {
      "cell_type": "code",
      "execution_count": 50,
      "metadata": {},
      "outputs": [],
      "source": [
        "# print(response)"
      ]
    },
    {
      "cell_type": "markdown",
      "metadata": {},
      "source": [
        "Podemos ver el grafo de lo que acabamos de construir."
      ]
    },
    {
      "cell_type": "code",
      "execution_count": 56,
      "metadata": {},
      "outputs": [],
      "source": [
        "# chain_2.get_graph().print_ascii()"
      ]
    },
    {
      "cell_type": "markdown",
      "metadata": {
        "id": "D6DabStVHts4"
      },
      "source": [
        "# **3 LLM usando el servicio de la empresa Groq**\n",
        "\n",
        "| [Página oficial](https://groq.com) |"
      ]
    },
    {
      "cell_type": "markdown",
      "metadata": {
        "id": "XBoFEJ6wH4C3"
      },
      "source": [
        "## **3.1 Descargar Groq para LangChain y Crear API**"
      ]
    },
    {
      "cell_type": "code",
      "execution_count": 57,
      "metadata": {
        "colab": {
          "base_uri": "https://localhost:8080/"
        },
        "id": "7SeoXwq-H68U",
        "outputId": "2004e85f-1986-4eac-8244-67849394ae6f"
      },
      "outputs": [],
      "source": [
        "!pip install -qU langchain-groq"
      ]
    },
    {
      "cell_type": "markdown",
      "metadata": {
        "id": "HkrgDKZiH7s9"
      },
      "source": [
        "## **3.2 Conectar API KEY**"
      ]
    },
    {
      "cell_type": "code",
      "execution_count": null,
      "metadata": {
        "id": "Humo8cM2HyD1"
      },
      "outputs": [],
      "source": [
        "import os\n",
        "\n",
        "os.environ[\"GROQ_API_KEY\"] = \"\""
      ]
    },
    {
      "cell_type": "code",
      "execution_count": 58,
      "metadata": {},
      "outputs": [],
      "source": [
        "from dotenv import load_dotenv\n",
        "import os\n",
        "\n",
        "load_dotenv()\n",
        "\n",
        "groq_api_key = os.getenv(\"GROQ_API_KEY\")"
      ]
    },
    {
      "cell_type": "markdown",
      "metadata": {
        "id": "-pc-yG_9IHN4"
      },
      "source": [
        "## **3.3 Instanciar al LLM**"
      ]
    },
    {
      "cell_type": "code",
      "execution_count": 61,
      "metadata": {
        "id": "IgRv5IipIJUV"
      },
      "outputs": [],
      "source": [
        "from langchain_groq import ChatGroq\n",
        "\n",
        "llm = ChatGroq(\n",
        "    model=\"llama-3.1-8b-instant\",\n",
        "    temperature=0.0\n",
        ")"
      ]
    },
    {
      "cell_type": "markdown",
      "metadata": {
        "id": "y7YjZ3trIlm4"
      },
      "source": [
        "## **3.4 Invoke (Inferencia al LLM)**"
      ]
    },
    {
      "cell_type": "code",
      "execution_count": null,
      "metadata": {
        "colab": {
          "base_uri": "https://localhost:8080/"
        },
        "id": "xmVGXtRhIpC2",
        "outputId": "94ea6115-8730-4dd2-e8ce-643892e7fc0a"
      },
      "outputs": [],
      "source": [
        "response = llm.invoke(\"Hola, cómo estás?\")\n",
        "response"
      ]
    },
    {
      "cell_type": "markdown",
      "metadata": {
        "id": "e_L2gNxnZUbX"
      },
      "source": [
        "# **4. Agentes**"
      ]
    },
    {
      "cell_type": "markdown",
      "metadata": {},
      "source": [
        "| [Documentación Oficial](https://python.langchain.com/v0.1/docs/modules/agents/) |\n",
        "\n",
        "El objetivo de utilizar agentes es utilizar un `modelo de lenguaje` para elegir una secuencia de acciones a realizar. Recordemos que las cadenas son componentes secuenciales de langchain pero con el Agente podemos utilizarlo como un motor de razonamiento para determinar qué acciones realizar y en qué orden."
      ]
    },
    {
      "cell_type": "markdown",
      "metadata": {
        "id": "9wyDhFeBazt2"
      },
      "source": [
        "## **4.1 Guía Rápida**\n",
        "\n",
        "Para este ejercicio necesitaremos crear una API en [Tavily](https://tavily.com), el cual es un motor de búsqueda diseñado específicamente para el agente, permitiendo entregar resultados en tiempo real, precisos y a gran velcidad.\n",
        "\n",
        "También, necesitaremos instalar dos paquetes `langchain-community` y `tavily-python`."
      ]
    },
    {
      "cell_type": "code",
      "execution_count": 64,
      "metadata": {
        "colab": {
          "base_uri": "https://localhost:8080/"
        },
        "id": "rSkbinLZa1ru",
        "outputId": "d12ece8d-7864-4405-fe05-b992453cf50d"
      },
      "outputs": [],
      "source": [
        "!pip install -qU langchain-community tavily-python"
      ]
    },
    {
      "cell_type": "code",
      "execution_count": null,
      "metadata": {
        "id": "OAP_sxFTa5H2"
      },
      "outputs": [],
      "source": [
        "import os\n",
        "\n",
        "os.environ[\"TAVILY_API_KEY\"] =\"\""
      ]
    },
    {
      "cell_type": "code",
      "execution_count": 67,
      "metadata": {},
      "outputs": [],
      "source": [
        "from dotenv import load_dotenv\n",
        "import os\n",
        "\n",
        "load_dotenv()\n",
        "\n",
        "tavily_api_key = os.getenv(\"TAVILY_API_KEY\")"
      ]
    },
    {
      "cell_type": "code",
      "execution_count": 68,
      "metadata": {
        "id": "fNQFH4zaa6pf"
      },
      "outputs": [],
      "source": [
        "from langchain_community.tools.tavily_search import TavilySearchResults\n",
        "\n",
        "tool = TavilySearchResults()"
      ]
    },
    {
      "cell_type": "code",
      "execution_count": 69,
      "metadata": {
        "id": "9ImLRBVCa-be"
      },
      "outputs": [],
      "source": [
        "response_ai_agent = tool.invoke({\"query\": \"quién es el nuevo papa?\"})"
      ]
    },
    {
      "cell_type": "code",
      "execution_count": 71,
      "metadata": {
        "colab": {
          "base_uri": "https://localhost:8080/"
        },
        "id": "76HjMca3bVi_",
        "outputId": "fcfd40db-e42e-4eb7-f886-ae8aa62074e1"
      },
      "outputs": [],
      "source": [
        "# response_ai_agent"
      ]
    },
    {
      "cell_type": "markdown",
      "metadata": {
        "id": "g61ep2Iyb3UX"
      },
      "source": [
        "## **4.2 Chaining**\n",
        "\n",
        "| [Referencia del ejemplo](https://python.langchain.com/v0.1/docs/integrations/tools/tavily_search/#chaining) |\n",
        "\n",
        "Ahora utilizaremos el Agente de OpenAI y crearemos una cadena, pero necesitamos instalar otros dos módulos."
      ]
    },
    {
      "cell_type": "code",
      "execution_count": 72,
      "metadata": {
        "id": "TC8pZ9XIb4x6"
      },
      "outputs": [],
      "source": [
        "!pip install -qU langchainhub"
      ]
    },
    {
      "cell_type": "code",
      "execution_count": 73,
      "metadata": {
        "colab": {
          "base_uri": "https://localhost:8080/"
        },
        "id": "tgQttXT8b7em",
        "outputId": "36ba3207-163d-4ad3-d0a6-0480470321ee"
      },
      "outputs": [
        {
          "name": "stderr",
          "output_type": "stream",
          "text": [
            "c:\\Users\\gol_m\\anaconda3\\envs\\cam_nuevo\\lib\\site-packages\\langsmith\\client.py:271: LangSmithMissingAPIKeyWarning: API key must be provided when using hosted LangSmith API\n",
            "  warnings.warn(\n"
          ]
        }
      ],
      "source": [
        "from langchain import hub\n",
        "from langchain.agents import AgentExecutor, create_openai_functions_agent\n",
        "from langchain_openai import ChatOpenAI\n",
        "\n",
        "instructions = \"\"\"Tú eres un asistente.\"\"\"\n",
        "\n",
        "base_prompt = hub.pull(\"langchain-ai/openai-functions-template\")\n",
        "\n",
        "prompt = base_prompt.partial(instructions=instructions)\n",
        "\n",
        "llm = ChatOpenAI(temperature=0.0)\n",
        "\n",
        "tavily_tool = TavilySearchResults()\n",
        "\n",
        "tools = [tavily_tool]\n",
        "\n",
        "agent = create_openai_functions_agent(llm, tools, prompt)\n",
        "\n",
        "agent_executor = AgentExecutor(\n",
        "    agent=agent,\n",
        "    tools=tools,\n",
        "    verbose=True,\n",
        ")"
      ]
    },
    {
      "cell_type": "code",
      "execution_count": null,
      "metadata": {
        "colab": {
          "base_uri": "https://localhost:8080/"
        },
        "id": "gO3-ritHcrUo",
        "outputId": "c139a786-138d-486d-9279-356e380ebe1a"
      },
      "outputs": [
        {
          "name": "stdout",
          "output_type": "stream",
          "text": [
            "\n",
            "\n",
            "\u001b[1m> Entering new AgentExecutor chain...\u001b[0m\n",
            "\u001b[32;1m\u001b[1;3m\n",
            "Invoking: `tavily_search_results_json` with `{'query': 'Joker 2 release date in Chile'}`\n",
            "\n",
            "\n",
            "\u001b[0m\u001b[36;1m\u001b[1;3m[{'url': 'https://www.pauta.cl/entretencion/2024/10/03/joker-2-llega-a-la-pantalla-grande-en-chile-revisa-la-fecha-de-estreno.html', 'content': 'Joker 2 llega a la pantalla grande en Chile: revisa la fecha de estreno. Joker 2: ¿Cuándo se estrena en Chile? Aunque en Estados Unidos y Canadá la película se lanzará el viernes 4 de octubre, los espectadores en Chile y el resto de Latinoamérica podrán disfrutarla un día antes, el jueves 3 de octubre.. El largometraje ha suscitado múltiples opiniones tras su debut en el Festival de ...'}, {'url': 'https://www.duplos.cl/tendencias/joker-2-todd-phillips-joaquin-phoenix-lady-gaga-369/154063/2024/10/03/', 'content': 'Joker 2 llega a Chile: descubre la fecha de estreno de este thriller psicológico. El mes de octubre de 2023 marca un hito significativo en la industria cinematográfica con el estreno de \"Joker 2\", una secuela que ha generado gran expectativa.'}, {'url': 'https://www.radiotimes.com/movies/joker-2-release-date/', 'content': 'Joker 2: Release date, cast, title, trailer and more. Say hello to Joker: Folie à Deux. Warner Bros. Patrick Cremona. , Owen Tonks. Published: Thursday, 26 September 2024 at 3:41 pm. Subscribe to ...'}, {'url': 'https://thedirect.com/article/joker-2-release-date-cast', 'content': \"For the time being, Joker: Folie à Deux is set to debut in theaters on October 4, 2024, although there are a number of factors that could push that date. Production for the project isn't a huge issue with filming having wrapped, although there's one big factor that could be in play - the ongoing Writers'/Screen Actors' Guild strikes.\"}, {'url': 'https://www.ign.com/articles/joker-2-release-date-officially-announced', 'content': 'Posted: Aug 3, 2022 7:50 pm. Following the news that Warner Bros. Discovery is canceling Batgirl, a question mark suddenly hangs over a lot of DC projects. Well, all of them except for Joker 2 ...'}]\u001b[0m\u001b[32;1m\u001b[1;3m\"Joker 2\" se estrenará en Chile el jueves 3 de octubre. Los espectadores en Chile y el resto de Latinoamérica podrán disfrutar de la película un día antes que en Estados Unidos y Canadá.\u001b[0m\n",
            "\n",
            "\u001b[1m> Finished chain.\u001b[0m\n"
          ]
        },
        {
          "data": {
            "text/plain": [
              "{'input': 'cuándo se estrena el joker 2 en chile??',\n",
              " 'output': '\"Joker 2\" se estrenará en Chile el jueves 3 de octubre. Los espectadores en Chile y el resto de Latinoamérica podrán disfrutar de la película un día antes que en Estados Unidos y Canadá.'}"
            ]
          },
          "execution_count": 38,
          "metadata": {},
          "output_type": "execute_result"
        }
      ],
      "source": [
        "agent_executor.invoke({\"input\": \"cuándo se estrena el joker 2 en chile??\"})"
      ]
    },
    {
      "cell_type": "code",
      "execution_count": 74,
      "metadata": {},
      "outputs": [
        {
          "name": "stdout",
          "output_type": "stream",
          "text": [
            "\n",
            "\n",
            "\u001b[1m> Entering new AgentExecutor chain...\u001b[0m\n",
            "\u001b[32;1m\u001b[1;3m\n",
            "Invoking: `tavily_search_results_json` with `{'query': 'nuevo papa'}`\n",
            "\n",
            "\n",
            "\u001b[0m\u001b[36;1m\u001b[1;3m[{'title': 'Resumen de noticias del cónclave que eligió a Prevost como el ...', 'url': 'https://cnnespanol.cnn.com/mundo/live-news/conclave-elecciones-nuevo-papa-en-vivo-dia-2-orix', 'content': '¡Enlace copiado!\\n13:18 ET (17:18 GMT) 8 de mayo de 2025\\nÚLTIMA HORA: el nuevo papa es el cardenal Robert Prevost\\n\\nEl cardenal estadounidense Robert Francis Prevost fue elegido papa.\\nFranco Origlia/Getty Images Europe/Getty Images\\nEl nuevo papa será Robert Prevost de Estados Unidos, el primer pontífice estadounidense en la historia.\\n\\n¡Enlace copiado!\\n12:53 ET (16:53 GMT) 8 de mayo de 2025\\nDesde este balcón es donde veremos por primera vez al nuevo papa\\nChristian Edwards [...] Primer papa estadounidense: se reveló que el nuevo papa es Robert Prevost, de EE.UU., el primer pontífice estadounidense de la historia. Será conocido como el papa León XIV.\\nTambién tiene nacionalidad peruana: el 24 de agosto de 2015, Prevost obtuvo nacionalidad peruana, según confirmó CNN. [...] Y quién será el nuevo pontífice seguirá siendo un secreto durante algún tiempo más: el nuevo papa será anunciado a todos al mismo tiempo desde el balcón de la Basílica de San Pedro.\\nLos dos últimos papas, Benedicto XVI y Francisco, también fueron nombrados en el segundo día de votación. Antes que ellos, al tercer día, fue nombrado Juan Pablo II.', 'score': 0.85157084}, {'title': 'León XIV: quién es el nuevo papa Robert Francis Prevost y en qué ...', 'url': 'https://www.nationalgeographicla.com/historia/2025/05/leon-xiv-quien-es-el-nuevo-papa-robert-francis-prevost-y-en-que-se-diferencia-del-papa-francisco', 'content': 'Un mar de gente llena la Plaza de San Pedro del Vaticano mientras el papa LeÃ³n XIV pronuncia su primer discurso. La multitud coreÃ³ el nombre que eligiÃ³ tras salir por primera vez al balcÃ³n.\\n\\nEl nuevo papa es â\\x80\\x9cvisto como un centrista, un\\xa0seguidor de\\xa0Franciscoâ\\x80\\x9d, dice un veterano diplomÃ¡tico internacional que ha trabajado con el Vaticano durante 20 aÃ±os. [...] â\\x80\\x9cEs\\xa0progresista en temas sociales, y su\\xa0trabajo en AmÃ©rica Latina le ha hecho muy popular en esa parte del mundoâ\\x80\\x9d. El padre Martin Browne, del Dicasterio para la Unidad de los Cristianos del Vaticano, considera que el nuevo papa es â\\x80\\x9chumilde, amable y sabe escucharâ\\x80\\x9d. [...] El cardenal Robert Francis Prevost es el 267Âº papa y el nuevo lÃ\\xadder de los 1400 millones de catÃ³licos del mundo. Pero, al igual que sus predecesores\\xa0Francisco y Juan Pablo II,\\xa0su elecciÃ³n fue una sorpresa.', 'score': 0.8091708}, {'title': 'Sacro y Profano - León XIV, El nuevo Papa (14/05/2025) - YouTube', 'url': 'https://www.youtube.com/watch?v=PMmB0nJ3vtQ', 'content': 'El Cardenal Robert Francis Prevost, estadounidense-peruano, ha sido electo Papa. El 8 de mayo, la fumata blanca en la Catedral de San Pedro,', 'score': 0.755078}, {'title': 'Robert Francis Prevost, la biografía del nuevo Papa - Vatican News', 'url': 'https://www.vaticannews.va/es/papa/news/2025-05/robert-francis-prevost-la-biografia-del-nuevo-papa.html', 'content': 'Mientras tanto, el 15 de abril de 2020, llega el nombramiento papal también como administrador apostólico de la diócesis peruana de Callao. [...] Primer Papa agustino, es el segundo Pontífice del continente americano, después de Francisco, pero a diferencia de Bergoglio, el estadounidense Robert Francis Prevost, de 69 años, es originario de América del Norte. De hecho, el nuevo obispo de Roma nace el 14 de septiembre de 1955 en Chicago (Illinois - EE.\\xa0UU.), hijo de Louis Marius Prevost, de ascendencia francesa e italiana, y de Mildred Martínez, de ascendencia española. Tiene dos hermanos, Louis Martín y John Joseph. [...] Mientras tanto, el 4 de octubre de 2023, Francisco lo cuenta entre los miembros de los Dicasterios para la Evangelización, Sección para la Primera Evangelización y las Nuevas Iglesias Particulares; para la Doctrina de la Fe; para las Iglesias Orientales; para el Clero; para los Institutos de Vida Consagrada y las Sociedades de Vida Apostólica; para la Cultura y la Educación; para los Textos Legislativos; de la Pontificia Comisión para el Estado de la Ciudad del Vaticano.', 'score': 0.7216064}, {'title': 'cómo es la familia multicultural del nuevo papa León XIV - BBC', 'url': 'https://www.bbc.com/mundo/articles/clyzgkv4rwxo', 'content': 'Robert Francis Prevost, el nuevo papa León XIV, nació en EE.UU., tiene dos hermanos y tenía abuelos extranjeros. ¿Qué se sabe de su historia', 'score': 0.69968605}]\u001b[0m\u001b[32;1m\u001b[1;3mEl nuevo papa es el cardenal Robert Francis Prevost, de Estados Unidos. Será conocido como el papa León XIV. Es el primer pontífice estadounidense en la historia. Puedes encontrar más información [aquí](https://cnnespanol.cnn.com/mundo/live-news/conclave-elecciones-nuevo-papa-en-vivo-dia-2-orix).\u001b[0m\n",
            "\n",
            "\u001b[1m> Finished chain.\u001b[0m\n"
          ]
        },
        {
          "data": {
            "text/plain": [
              "{'input': 'quién es el nuevo papa?',\n",
              " 'output': 'El nuevo papa es el cardenal Robert Francis Prevost, de Estados Unidos. Será conocido como el papa León XIV. Es el primer pontífice estadounidense en la historia. Puedes encontrar más información [aquí](https://cnnespanol.cnn.com/mundo/live-news/conclave-elecciones-nuevo-papa-en-vivo-dia-2-orix).'}"
            ]
          },
          "execution_count": 74,
          "metadata": {},
          "output_type": "execute_result"
        }
      ],
      "source": [
        "agent_executor.invoke({\"input\": \"quién es el nuevo papa?\"})"
      ]
    },
    {
      "cell_type": "markdown",
      "metadata": {
        "id": "E2W5otE5hQH_"
      },
      "source": [
        "## 3.3 Concepto de Agente\n",
        "\n",
        "| [Referencia del Concepto de Agente](https://python.langchain.com/v0.1/docs/modules/agents/concepts/) |"
      ]
    },
    {
      "cell_type": "markdown",
      "metadata": {
        "id": "fLTLmDvbI890"
      },
      "source": [
        "![image.png](data:image/png;base64,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)"
      ]
    },
    {
      "cell_type": "markdown",
      "metadata": {
        "id": "YnaCpH3HNNNC"
      },
      "source": [
        "El `modelo de lenguaje` es utilizado como `motor de razonamiento` que determina qué accioneas realizar y en qué orden.\n",
        "\n",
        "Hay que entender que existen diversos conceptos a tener en cuenta si se quiere tener un manejo en los agentes utilizando LangChain.\n",
        "\n",
        "---\n",
        "**Key Words**: AgentAction, AgentFinish, IntermediateSteps, Agent, Agent Inputs, Agent Outputs, AgentExecutor, Tools.\n",
        "\n",
        "---\n",
        "\n",
        "1. `AgentAction`: Se trata de una clase de datos (dataclass) que representa la acción que debe realizar un agente.\n",
        "2. `AgentFinish`: Representa el resultado final del agente. En la práctica es un diccionario return_values que contiene la clave 'output' y este contiene el string con la respuesta final del agente.\n",
        "3. `IntermediateSteps`: Representa los pasos intermedios que realiza el agente en una estructura `List[Tuple[AgentAction, Any]]`.\n",
        "4. `Agent`: El agente suele estar potenciado por un modelo de lenguaje que contiene un prompt y un output parser. También, hay modelos de lenguaje ajustados finamente para mejorar el performance de agente y que puedan acceder correctamente a las tools [[1]](https://klu.ai/glossary/react-agent-model) [[2]](https://platform.openai.com/docs/guides/function-calling).\n",
        "5. `Agent Inputs`: Las entradas al agente es un mapeo de key-values. La key que requiere este paso es `IntermediateSteps`. **Generalmente, el PromptTemplate se encarga de transformar estos pares en un formato que pueda pasarse mejor al LLM.**\n",
        "6. `Agent Outputs`: La salida es la(s) siguiente(s) acción(es) a realizar o la respuesta final a enviar al usuario (AgentActions o AgentFinish). Concretamente, esto se puede tipificar como Union[AgentAction, List[AgentAction], AgentFinish]. El parser de salida es responsable de tomar la salida LLM en bruto y transformarla en uno de estos tres tipos.\n",
        "7. `AgentExecutor`: Esta clase me permite ejecutar al agente.\n",
        "8. `Tools`: Las tools son funciones que el agente puede invocar."
      ]
    },
    {
      "cell_type": "markdown",
      "metadata": {
        "id": "Zp6tg0kZjElz"
      },
      "source": [
        "### Custom Tools\n",
        "\n",
        "| [¿Cómo crear tools personalizadas?](https://python.langchain.com/v0.1/docs/modules/tools/custom_tools/) | [¿Cómo pasar el resultado de una tools al modelo?](https://python.langchain.com/docs/how_to/tool_results_pass_to_model/) |\n",
        "\n",
        "En esta sección se verá cómo crear tools de distintas formas. Además, se verá el funcionamiento a un nivel bajo del agente."
      ]
    },
    {
      "cell_type": "markdown",
      "metadata": {
        "id": "Yk5NZRIEOm2q"
      },
      "source": [
        "Para crear Tools personalizadas podemos hacerlo utilizando el decorador `@tools`."
      ]
    },
    {
      "cell_type": "code",
      "execution_count": null,
      "metadata": {
        "id": "vQHCLg6pvav_"
      },
      "outputs": [],
      "source": [
        "from langchain_core.tools import tool\n",
        "\n",
        "@tool\n",
        "def multiplicador(a: int, b: int) -> int:\n",
        "    \"\"\"Multiplica dos números enteros.\"\"\"\n",
        "    return a * b"
      ]
    },
    {
      "cell_type": "markdown",
      "metadata": {
        "id": "fRlp3wTaPQg8"
      },
      "source": [
        "El uso del decorador modifica la función añadiéndole atributos y métodos que facilitan la integración con el ecosistema Langchain. Dicho de otro modo, hereda o agrega atributos y métodos de la clase o implementación llamada tool."
      ]
    },
    {
      "cell_type": "code",
      "execution_count": null,
      "metadata": {
        "colab": {
          "base_uri": "https://localhost:8080/"
        },
        "id": "-ljN00uLO6wb",
        "outputId": "1bca1be8-b501-485f-fc30-51972e976d5d"
      },
      "outputs": [
        {
          "data": {
            "text/plain": [
              "{'description': 'Multiplica dos números enteros.',\n",
              " 'properties': {'a': {'title': 'A', 'type': 'integer'},\n",
              "  'b': {'title': 'B', 'type': 'integer'}},\n",
              " 'required': ['a', 'b'],\n",
              " 'title': 'multiplicador',\n",
              " 'type': 'object'}"
            ]
          },
          "execution_count": 7,
          "metadata": {},
          "output_type": "execute_result"
        }
      ],
      "source": [
        "multiplicador.args_schema.schema()"
      ]
    },
    {
      "cell_type": "code",
      "execution_count": null,
      "metadata": {
        "id": "5pW3u6kqPVtS"
      },
      "outputs": [],
      "source": [
        "def multiplicador_2(a: int, b: int) -> int:\n",
        "    \"\"\"Multiplica dos números enteros.\"\"\"\n",
        "    return a * b"
      ]
    },
    {
      "cell_type": "code",
      "execution_count": null,
      "metadata": {
        "colab": {
          "base_uri": "https://localhost:8080/",
          "height": 146
        },
        "id": "0l5y20hePYDb",
        "outputId": "fa203939-2e53-40a9-89c4-6fc0794ee177"
      },
      "outputs": [
        {
          "ename": "AttributeError",
          "evalue": "'function' object has no attribute 'args_schema_schema'",
          "output_type": "error",
          "traceback": [
            "\u001b[0;31m---------------------------------------------------------------------------\u001b[0m",
            "\u001b[0;31mAttributeError\u001b[0m                            Traceback (most recent call last)",
            "\u001b[0;32m<ipython-input-9-c7351262c190>\u001b[0m in \u001b[0;36m<cell line: 1>\u001b[0;34m()\u001b[0m\n\u001b[0;32m----> 1\u001b[0;31m \u001b[0mmultiplicador_2\u001b[0m\u001b[0;34m.\u001b[0m\u001b[0margs_schema_schema\u001b[0m\u001b[0;34m(\u001b[0m\u001b[0;34m)\u001b[0m\u001b[0;34m\u001b[0m\u001b[0;34m\u001b[0m\u001b[0m\n\u001b[0m",
            "\u001b[0;31mAttributeError\u001b[0m: 'function' object has no attribute 'args_schema_schema'"
          ]
        }
      ],
      "source": [
        "multiplicador_2.args_schema_schema()"
      ]
    },
    {
      "cell_type": "markdown",
      "metadata": {
        "id": "k6HfBp8lP1Rc"
      },
      "source": [
        "Es importante utilizar el tipado estático, también conocido `docstring`, debido a que nos arrojará un error."
      ]
    },
    {
      "cell_type": "code",
      "execution_count": null,
      "metadata": {
        "colab": {
          "base_uri": "https://localhost:8080/",
          "height": 371
        },
        "id": "AMs0KBGRQBRd",
        "outputId": "1c8a569e-b1e9-4b7a-fc58-18fe8d3a99c0"
      },
      "outputs": [
        {
          "ename": "ValueError",
          "evalue": "Function must have a docstring if description not provided.",
          "output_type": "error",
          "traceback": [
            "\u001b[0;31m---------------------------------------------------------------------------\u001b[0m",
            "\u001b[0;31mValueError\u001b[0m                                Traceback (most recent call last)",
            "\u001b[0;32m<ipython-input-13-92fdd8bdc7e5>\u001b[0m in \u001b[0;36m<cell line: 3>\u001b[0;34m()\u001b[0m\n\u001b[1;32m      2\u001b[0m \u001b[0;34m\u001b[0m\u001b[0m\n\u001b[1;32m      3\u001b[0m \u001b[0;34m@\u001b[0m\u001b[0mtool\u001b[0m\u001b[0;34m\u001b[0m\u001b[0;34m\u001b[0m\u001b[0m\n\u001b[0;32m----> 4\u001b[0;31m \u001b[0;32mdef\u001b[0m \u001b[0mmultiplicador\u001b[0m\u001b[0;34m(\u001b[0m\u001b[0ma\u001b[0m\u001b[0;34m,\u001b[0m \u001b[0mb\u001b[0m\u001b[0;34m)\u001b[0m\u001b[0;34m:\u001b[0m\u001b[0;34m\u001b[0m\u001b[0;34m\u001b[0m\u001b[0m\n\u001b[0m\u001b[1;32m      5\u001b[0m     \u001b[0;32mreturn\u001b[0m \u001b[0ma\u001b[0m \u001b[0;34m*\u001b[0m \u001b[0mb\u001b[0m\u001b[0;34m\u001b[0m\u001b[0;34m\u001b[0m\u001b[0m\n",
            "\u001b[0;32m/usr/local/lib/python3.10/dist-packages/langchain_core/tools/convert.py\u001b[0m in \u001b[0;36mtool\u001b[0;34m(return_direct, args_schema, infer_schema, response_format, parse_docstring, error_on_invalid_docstring, *args)\u001b[0m\n\u001b[1;32m    214\u001b[0m         \u001b[0;31m# if the argument is a function, then we use the function name as the tool name\u001b[0m\u001b[0;34m\u001b[0m\u001b[0;34m\u001b[0m\u001b[0m\n\u001b[1;32m    215\u001b[0m         \u001b[0;31m# Example usage: @tool\u001b[0m\u001b[0;34m\u001b[0m\u001b[0;34m\u001b[0m\u001b[0m\n\u001b[0;32m--> 216\u001b[0;31m         \u001b[0;32mreturn\u001b[0m \u001b[0m_make_with_name\u001b[0m\u001b[0;34m(\u001b[0m\u001b[0margs\u001b[0m\u001b[0;34m[\u001b[0m\u001b[0;36m0\u001b[0m\u001b[0;34m]\u001b[0m\u001b[0;34m.\u001b[0m\u001b[0m__name__\u001b[0m\u001b[0;34m)\u001b[0m\u001b[0;34m(\u001b[0m\u001b[0margs\u001b[0m\u001b[0;34m[\u001b[0m\u001b[0;36m0\u001b[0m\u001b[0;34m]\u001b[0m\u001b[0;34m)\u001b[0m\u001b[0;34m\u001b[0m\u001b[0;34m\u001b[0m\u001b[0m\n\u001b[0m\u001b[1;32m    217\u001b[0m     \u001b[0;32melif\u001b[0m \u001b[0mlen\u001b[0m\u001b[0;34m(\u001b[0m\u001b[0margs\u001b[0m\u001b[0;34m)\u001b[0m \u001b[0;34m==\u001b[0m \u001b[0;36m0\u001b[0m\u001b[0;34m:\u001b[0m\u001b[0;34m\u001b[0m\u001b[0;34m\u001b[0m\u001b[0m\n\u001b[1;32m    218\u001b[0m         \u001b[0;31m# if there are no arguments, then we use the function name as the tool name\u001b[0m\u001b[0;34m\u001b[0m\u001b[0;34m\u001b[0m\u001b[0m\n",
            "\u001b[0;32m/usr/local/lib/python3.10/dist-packages/langchain_core/tools/convert.py\u001b[0m in \u001b[0;36m_make_tool\u001b[0;34m(dec_func)\u001b[0m\n\u001b[1;32m    175\u001b[0m \u001b[0;34m\u001b[0m\u001b[0m\n\u001b[1;32m    176\u001b[0m             \u001b[0;32mif\u001b[0m \u001b[0minfer_schema\u001b[0m \u001b[0;32mor\u001b[0m \u001b[0margs_schema\u001b[0m \u001b[0;32mis\u001b[0m \u001b[0;32mnot\u001b[0m \u001b[0;32mNone\u001b[0m\u001b[0;34m:\u001b[0m\u001b[0;34m\u001b[0m\u001b[0;34m\u001b[0m\u001b[0m\n\u001b[0;32m--> 177\u001b[0;31m                 return StructuredTool.from_function(\n\u001b[0m\u001b[1;32m    178\u001b[0m                     \u001b[0mfunc\u001b[0m\u001b[0;34m,\u001b[0m\u001b[0;34m\u001b[0m\u001b[0;34m\u001b[0m\u001b[0m\n\u001b[1;32m    179\u001b[0m                     \u001b[0mcoroutine\u001b[0m\u001b[0;34m,\u001b[0m\u001b[0;34m\u001b[0m\u001b[0;34m\u001b[0m\u001b[0m\n",
            "\u001b[0;32m/usr/local/lib/python3.10/dist-packages/langchain_core/tools/structured.py\u001b[0m in \u001b[0;36mfrom_function\u001b[0;34m(cls, func, coroutine, name, description, return_direct, args_schema, infer_schema, response_format, parse_docstring, error_on_invalid_docstring, **kwargs)\u001b[0m\n\u001b[1;32m    185\u001b[0m             \u001b[0mdescription_\u001b[0m \u001b[0;34m=\u001b[0m \u001b[0margs_schema\u001b[0m\u001b[0;34m.\u001b[0m\u001b[0m__doc__\u001b[0m \u001b[0;32mor\u001b[0m \u001b[0;32mNone\u001b[0m\u001b[0;34m\u001b[0m\u001b[0;34m\u001b[0m\u001b[0m\n\u001b[1;32m    186\u001b[0m         \u001b[0;32mif\u001b[0m \u001b[0mdescription_\u001b[0m \u001b[0;32mis\u001b[0m \u001b[0;32mNone\u001b[0m\u001b[0;34m:\u001b[0m\u001b[0;34m\u001b[0m\u001b[0;34m\u001b[0m\u001b[0m\n\u001b[0;32m--> 187\u001b[0;31m             raise ValueError(\n\u001b[0m\u001b[1;32m    188\u001b[0m                 \u001b[0;34m\"Function must have a docstring if description not provided.\"\u001b[0m\u001b[0;34m\u001b[0m\u001b[0;34m\u001b[0m\u001b[0m\n\u001b[1;32m    189\u001b[0m             )\n",
            "\u001b[0;31mValueError\u001b[0m: Function must have a docstring if description not provided."
          ]
        }
      ],
      "source": [
        "from langchain_core.tools import tool\n",
        "\n",
        "@tool\n",
        "def multiplicador(a, b):\n",
        "    return a * b"
      ]
    },
    {
      "cell_type": "code",
      "execution_count": null,
      "metadata": {
        "id": "yQwcDGihQSvC"
      },
      "outputs": [],
      "source": [
        "from langchain_core.tools import tool\n",
        "\n",
        "@tool\n",
        "def multiplicador(a, b):\n",
        "    \"\"\"Multiplica dos números enteros.\"\"\"\n",
        "    return a * b"
      ]
    },
    {
      "cell_type": "code",
      "execution_count": null,
      "metadata": {
        "colab": {
          "base_uri": "https://localhost:8080/"
        },
        "id": "5K5hs6VXQVOM",
        "outputId": "f6e86c52-5aae-441d-95fd-7383db5d237e"
      },
      "outputs": [
        {
          "name": "stdout",
          "output_type": "stream",
          "text": [
            "multiplicador\n",
            "Multiplica dos números enteros.\n",
            "{'a': {'title': 'A'}, 'b': {'title': 'B'}}\n"
          ]
        }
      ],
      "source": [
        "print(multiplicador.name)\n",
        "print(multiplicador.description)\n",
        "print(multiplicador.args)"
      ]
    },
    {
      "cell_type": "markdown",
      "metadata": {
        "id": "7PImephwQi0L"
      },
      "source": [
        "Es importante además indicar el tipo de dato de entrada y salida."
      ]
    },
    {
      "cell_type": "code",
      "execution_count": null,
      "metadata": {
        "id": "OCd8c_XsQgjc"
      },
      "outputs": [],
      "source": [
        "from langchain_core.tools import tool\n",
        "\n",
        "@tool\n",
        "def multiplicador(a: int, b: int) -> int:\n",
        "    \"\"\"Multiplica dos números enteros.\"\"\"\n",
        "    return a * b"
      ]
    },
    {
      "cell_type": "code",
      "execution_count": null,
      "metadata": {
        "colab": {
          "base_uri": "https://localhost:8080/"
        },
        "id": "PiFbk4oTQh8D",
        "outputId": "edf553bd-351d-4ee5-84fc-e96d6ff98bd7"
      },
      "outputs": [
        {
          "name": "stdout",
          "output_type": "stream",
          "text": [
            "multiplicador\n",
            "Multiplica dos números enteros.\n",
            "{'a': {'title': 'A', 'type': 'integer'}, 'b': {'title': 'B', 'type': 'integer'}}\n"
          ]
        }
      ],
      "source": [
        "print(multiplicador.name)\n",
        "print(multiplicador.description)\n",
        "print(multiplicador.args)"
      ]
    },
    {
      "cell_type": "markdown",
      "metadata": {
        "id": "tfFDwcdRRC3r"
      },
      "source": [
        "También, LangChain soporta otros modos de realizar lo anterior utilizando anotaciones de parseo (parsing annotation), esquemas anidados (nested schemas) y otras características."
      ]
    },
    {
      "cell_type": "code",
      "execution_count": null,
      "metadata": {
        "id": "uv89u2dWRTIj"
      },
      "outputs": [],
      "source": [
        "from typing import Annotated, List\n",
        "\n",
        "@tool\n",
        "def multiplicador(\n",
        "    a: Annotated[int, \"Factor de escala\"],\n",
        "    b: Annotated[List[int], \"Lista de ints que tomará el valor máximo\"],\n",
        ") -> int:\n",
        "    \"\"\"Multiplica a por el máximo de b.\"\"\"\n",
        "    return a * max(b)"
      ]
    },
    {
      "cell_type": "code",
      "execution_count": null,
      "metadata": {
        "colab": {
          "base_uri": "https://localhost:8080/"
        },
        "id": "esIRbCk7R8KM",
        "outputId": "a75a6b8c-d6f0-4fd1-88f3-38bac0e6a234"
      },
      "outputs": [
        {
          "name": "stdout",
          "output_type": "stream",
          "text": [
            "multiplicador\n",
            "Multiplica a por el máximo de b.\n",
            "{'a': {'description': 'Factor de escala', 'title': 'A', 'type': 'integer'}, 'b': {'description': 'Lista de ints que tomará el valor máximo', 'items': {'type': 'integer'}, 'title': 'B', 'type': 'array'}}\n"
          ]
        }
      ],
      "source": [
        "print(multiplicador.name)\n",
        "print(multiplicador.description)\n",
        "print(multiplicador.args)"
      ]
    },
    {
      "cell_type": "markdown",
      "metadata": {
        "id": "1he9C3VHSVDy"
      },
      "source": [
        "Podemos crear o personalizar las tools utilizando pydantic."
      ]
    },
    {
      "cell_type": "code",
      "execution_count": null,
      "metadata": {
        "colab": {
          "base_uri": "https://localhost:8080/"
        },
        "id": "QkwDoa6gSH_a",
        "outputId": "bf85a6f0-3c70-4da8-c6a4-043ded2513aa"
      },
      "outputs": [
        {
          "name": "stdout",
          "output_type": "stream",
          "text": [
            "multiplication-tool\n",
            "Multiply two numbers.\n",
            "{'a': {'description': 'first number', 'title': 'A', 'type': 'integer'}, 'b': {'description': 'second number', 'title': 'B', 'type': 'integer'}}\n",
            "True\n"
          ]
        }
      ],
      "source": [
        "from pydantic import BaseModel, Field\n",
        "\n",
        "\n",
        "class CalculatorInput(BaseModel):\n",
        "    a: int = Field(description=\"first number\")\n",
        "    b: int = Field(description=\"second number\")\n",
        "\n",
        "\n",
        "@tool(\"multiplication-tool\", args_schema=CalculatorInput, return_direct=True)\n",
        "def multiply(a: int, b: int) -> int:\n",
        "    \"\"\"Multiply two numbers.\"\"\"\n",
        "    return a * b\n",
        "\n",
        "\n",
        "print(multiply.name)\n",
        "print(multiply.description)\n",
        "print(multiply.args)\n",
        "print(multiply.return_direct)"
      ]
    },
    {
      "cell_type": "markdown",
      "metadata": {
        "id": "1ME1FQ9uSgnZ"
      },
      "source": [
        "Por último, podemos crear las tools utilizando la notación de google llamada `Google Style Docstring`"
      ]
    },
    {
      "cell_type": "code",
      "execution_count": null,
      "metadata": {
        "colab": {
          "base_uri": "https://localhost:8080/"
        },
        "id": "9MLhSj7ETYra",
        "outputId": "7b367cc1-9af9-4254-cdc7-d1ba5dae1ce5"
      },
      "outputs": [
        {
          "data": {
            "text/plain": [
              "{'description': 'The foo.',\n",
              " 'properties': {'bar': {'description': 'The bar.',\n",
              "   'title': 'Bar',\n",
              "   'type': 'string'},\n",
              "  'baz': {'description': 'The baz.', 'title': 'Baz', 'type': 'integer'}},\n",
              " 'required': ['bar', 'baz'],\n",
              " 'title': 'foo',\n",
              " 'type': 'object'}"
            ]
          },
          "execution_count": 23,
          "metadata": {},
          "output_type": "execute_result"
        }
      ],
      "source": [
        "@tool(parse_docstring=True)\n",
        "def foo(bar: str, baz: int) -> str:\n",
        "    \"\"\"The foo.\n",
        "\n",
        "    Args:\n",
        "        bar: The bar.\n",
        "        baz: The baz.\n",
        "    \"\"\"\n",
        "    return bar\n",
        "\n",
        "\n",
        "foo.args_schema.schema()"
      ]
    },
    {
      "cell_type": "markdown",
      "metadata": {
        "id": "0xwcJQuJQ2db"
      },
      "source": [
        "#### **¿Por qué hacemos todo esto?**\n",
        "\n",
        "| [Referencia del concepto](https://python.langchain.com/docs/how_to/tool_calling/) |"
      ]
    },
    {
      "cell_type": "markdown",
      "metadata": {
        "id": "y0ow0HQEXDtB"
      },
      "source": [
        "Dado que el modelo en realidad no hace la acción, sino que genera una estructura a su salida con el objetivo de utilizar una herramienta. La llamada a una función o `Tool Calling` es una técnica que permite estructurar la generación del modelo dado una inferencia."
      ]
    },
    {
      "cell_type": "markdown",
      "metadata": {
        "id": "7d_9wzQXWIus"
      },
      "source": [
        "![image.png](data:image/png;base64,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)"
      ]
    },
    {
      "cell_type": "markdown",
      "metadata": {
        "id": "8fccTWB3YTvj"
      },
      "source": [
        "Por lo anterior, debemos estructurar las tools de cierto modo para que el modelo sea capaz de tomar la query, descomponerla en cierta estructura y llamar a la función."
      ]
    },
    {
      "cell_type": "markdown",
      "metadata": {
        "id": "HGM-pm-PY_Pc"
      },
      "source": [
        "#### **Nota Importante**"
      ]
    },
    {
      "cell_type": "markdown",
      "metadata": {
        "id": "RG_JFu33ZLjq"
      },
      "source": [
        "El nombre de la función (name), las sugerencias de tipo (type hints) y el docstring forman parte del esquema (schema) de la herramienta que se pasa al modelo. `Definir esquemas buenos y descriptivos es una extensión del prompt engineering y es una parte importante para conseguir que los modelos funcionen bien`."
      ]
    },
    {
      "cell_type": "code",
      "execution_count": null,
      "metadata": {
        "id": "Tp4T4zY_WJEf"
      },
      "outputs": [],
      "source": [
        "@tool(parse_docstring=True)\n",
        "def sumar(a: int, b: int) -> int:\n",
        "    \"\"\"Suma dos enteros.\n",
        "\n",
        "    Args:\n",
        "        a: Primer integer\n",
        "        b: Segundo integer\n",
        "    \"\"\"\n",
        "    return a + b\n",
        "\n",
        "@tool(parse_docstring=True)\n",
        "def multiplicador(a: int, b: int) -> int:\n",
        "    \"\"\"Multiplica dos enteros.\n",
        "\n",
        "    Args:\n",
        "        a: Primer integer\n",
        "        b: Segundo integer\n",
        "    \"\"\"\n",
        "    return a * b"
      ]
    },
    {
      "cell_type": "code",
      "execution_count": null,
      "metadata": {
        "id": "9HlEO9xzaq1Z"
      },
      "outputs": [],
      "source": [
        "tools = [sumar, multiplicador]"
      ]
    },
    {
      "cell_type": "code",
      "execution_count": null,
      "metadata": {
        "id": "bJRp_LS0V3rC"
      },
      "outputs": [],
      "source": [
        "from langchain_groq import ChatGroq\n",
        "\n",
        "llm = ChatGroq(\n",
        "    model=\"llama-3.1-8b-instant\",\n",
        "    temperature=0.0\n",
        ")"
      ]
    },
    {
      "cell_type": "code",
      "execution_count": null,
      "metadata": {
        "colab": {
          "base_uri": "https://localhost:8080/"
        },
        "id": "gHp5AO6oVp21",
        "outputId": "cae43bac-2168-489d-c17e-290368813385"
      },
      "outputs": [
        {
          "data": {
            "text/plain": [
              "AIMessage(content='', additional_kwargs={'tool_calls': [{'id': 'call_c6n6', 'function': {'arguments': '{\"a\": 2555, \"b\": 2555}', 'name': 'multiplicador'}, 'type': 'function'}]}, response_metadata={'token_usage': {'completion_tokens': 23, 'prompt_tokens': 312, 'total_tokens': 335, 'completion_time': 0.030666667, 'prompt_time': 0.063807332, 'queue_time': 0.0020277840000000047, 'total_time': 0.094473999}, 'model_name': 'llama-3.1-8b-instant', 'system_fingerprint': 'fp_9cb648b966', 'finish_reason': 'tool_calls', 'logprobs': None}, id='run-329dccab-413b-4d3f-83d3-3d930fdd9506-0', tool_calls=[{'name': 'multiplicador', 'args': {'a': 2555, 'b': 2555}, 'id': 'call_c6n6', 'type': 'tool_call'}], usage_metadata={'input_tokens': 312, 'output_tokens': 23, 'total_tokens': 335})"
            ]
          },
          "execution_count": 29,
          "metadata": {},
          "output_type": "execute_result"
        }
      ],
      "source": [
        "llm_with_tools = llm.bind_tools(tools)\n",
        "\n",
        "query = \"cuánto es 2555 * 2555\"\n",
        "\n",
        "llm_with_tools.invoke(query)"
      ]
    },
    {
      "cell_type": "markdown",
      "metadata": {
        "id": "HaXFv0BlbmUo"
      },
      "source": [
        "Podemos ver que el modelo nos retorna el objeto AIMessage y podemos apreciar que la llamada a la función fue correcta, dado que que `tool_calls` contiene el nombre de la función que se utilizó y los argumentos."
      ]
    },
    {
      "cell_type": "markdown",
      "metadata": {
        "id": "ZICHonM3c6m4"
      },
      "source": [
        "Ahora vamos agregar un pequeño historial"
      ]
    },
    {
      "cell_type": "code",
      "execution_count": null,
      "metadata": {
        "colab": {
          "base_uri": "https://localhost:8080/"
        },
        "id": "BCVYCfJJc8ll",
        "outputId": "8de8fbb5-20fe-4c0b-8d8c-2e07a30b8c8f"
      },
      "outputs": [
        {
          "name": "stdout",
          "output_type": "stream",
          "text": [
            "[{'name': 'multiplicador', 'args': {'a': 2555, 'b': 2555}, 'id': 'call_vvbb', 'type': 'tool_call'}]\n"
          ]
        }
      ],
      "source": [
        "from langchain_core.messages import HumanMessage\n",
        "\n",
        "query = \"cuánto es 2555 * 2555\"\n",
        "\n",
        "messages = [HumanMessage(query)]\n",
        "\n",
        "ai_msg = llm_with_tools.invoke(messages)\n",
        "\n",
        "print(ai_msg.tool_calls)\n",
        "\n",
        "messages.append(ai_msg)"
      ]
    },
    {
      "cell_type": "code",
      "execution_count": null,
      "metadata": {
        "colab": {
          "base_uri": "https://localhost:8080/"
        },
        "id": "81np5GE0craP",
        "outputId": "bf14ad04-f16c-4965-8ab1-6f69a8918155"
      },
      "outputs": [
        {
          "data": {
            "text/plain": [
              "[{'name': 'multiplicador',\n",
              "  'args': {'a': 2555, 'b': 2555},\n",
              "  'id': 'call_n92e',\n",
              "  'type': 'tool_call'}]"
            ]
          },
          "execution_count": 31,
          "metadata": {},
          "output_type": "execute_result"
        }
      ],
      "source": [
        "ai_msg.tool_calls"
      ]
    },
    {
      "cell_type": "code",
      "execution_count": null,
      "metadata": {
        "colab": {
          "base_uri": "https://localhost:8080/"
        },
        "id": "4iJZfDi2dWFf",
        "outputId": "d68275e0-c2f5-4140-85a5-c3f03c2a5d5f"
      },
      "outputs": [
        {
          "data": {
            "text/plain": [
              "[HumanMessage(content='cuánto es 2555 * 2555', additional_kwargs={}, response_metadata={}),\n",
              " AIMessage(content='', additional_kwargs={'tool_calls': [{'id': 'call_vvbb', 'function': {'arguments': '{\"a\": 2555, \"b\": 2555}', 'name': 'multiplicador'}, 'type': 'function'}]}, response_metadata={'token_usage': {'completion_tokens': 23, 'prompt_tokens': 312, 'total_tokens': 335, 'completion_time': 0.030666667, 'prompt_time': 0.064331696, 'queue_time': 0.002106830000000004, 'total_time': 0.094998363}, 'model_name': 'llama-3.1-8b-instant', 'system_fingerprint': 'fp_9cb648b966', 'finish_reason': 'tool_calls', 'logprobs': None}, id='run-d362470b-1000-4334-83b7-325c4c2549c3-0', tool_calls=[{'name': 'multiplicador', 'args': {'a': 2555, 'b': 2555}, 'id': 'call_vvbb', 'type': 'tool_call'}], usage_metadata={'input_tokens': 312, 'output_tokens': 23, 'total_tokens': 335}),\n",
              " ToolMessage(content='6528025', name='multiplicador', tool_call_id='call_vvbb')]"
            ]
          },
          "execution_count": 34,
          "metadata": {},
          "output_type": "execute_result"
        }
      ],
      "source": [
        "for tool_call in ai_msg.tool_calls:\n",
        "    selected_tool = {\"sumar\": sumar, \"multiplicador\": multiplicador}[tool_call[\"name\"].lower()]\n",
        "    tool_msg = selected_tool.invoke(tool_call)\n",
        "    messages.append(tool_msg)\n",
        "\n",
        "messages"
      ]
    },
    {
      "cell_type": "markdown",
      "metadata": {
        "id": "qi5lA3ygd91A"
      },
      "source": [
        "Por último, volvemos a invocar al modelo pero con `los resultados de la herramienta`. El modelo utilizará esta información para generar una respuesta refinada y final dada la consulta."
      ]
    },
    {
      "cell_type": "code",
      "execution_count": null,
      "metadata": {
        "id": "y6zU_Mlcd57n"
      },
      "outputs": [],
      "source": [
        "llm_response = llm.invoke(messages)"
      ]
    },
    {
      "cell_type": "code",
      "execution_count": null,
      "metadata": {
        "colab": {
          "base_uri": "https://localhost:8080/"
        },
        "id": "aDXwqCjSeUzg",
        "outputId": "735455bb-4782-4ea9-93c6-1697ed637c5b"
      },
      "outputs": [
        {
          "data": {
            "text/plain": [
              "AIMessage(content='La respuesta es 6.528.025.', additional_kwargs={}, response_metadata={'token_usage': {'completion_tokens': 11, 'prompt_tokens': 82, 'total_tokens': 93, 'completion_time': 0.014666667, 'prompt_time': 0.027939688, 'queue_time': 0.0016106299999999983, 'total_time': 0.042606355}, 'model_name': 'llama-3.1-8b-instant', 'system_fingerprint': 'fp_f66ccb39ec', 'finish_reason': 'stop', 'logprobs': None}, id='run-ad238999-1c3c-4e8a-9cd0-346d0c425a4c-0', usage_metadata={'input_tokens': 82, 'output_tokens': 11, 'total_tokens': 93})"
            ]
          },
          "execution_count": 38,
          "metadata": {},
          "output_type": "execute_result"
        }
      ],
      "source": [
        "llm_response"
      ]
    },
    {
      "cell_type": "code",
      "execution_count": null,
      "metadata": {
        "colab": {
          "base_uri": "https://localhost:8080/",
          "height": 36
        },
        "id": "RbOgkvxTewZ5",
        "outputId": "c7948ffb-d770-4602-84ef-09a597f4f386"
      },
      "outputs": [
        {
          "data": {
            "application/vnd.google.colaboratory.intrinsic+json": {
              "type": "string"
            },
            "text/plain": [
              "'La respuesta es 6.528.025.'"
            ]
          },
          "execution_count": 41,
          "metadata": {},
          "output_type": "execute_result"
        }
      ],
      "source": [
        "from langchain_core.output_parsers import StrOutputParser\n",
        "\n",
        "parseo = StrOutputParser()\n",
        "\n",
        "parseo.invoke(llm_response)"
      ]
    },
    {
      "cell_type": "markdown",
      "metadata": {
        "id": "lxDKQ-0KhF2P"
      },
      "source": [
        "Pidamos que realice varias operaciones"
      ]
    },
    {
      "cell_type": "code",
      "execution_count": null,
      "metadata": {
        "colab": {
          "base_uri": "https://localhost:8080/",
          "height": 36
        },
        "id": "Ii4MBQ4-hH3l",
        "outputId": "37d6e9be-d374-4f65-88c7-b7f55940f701"
      },
      "outputs": [
        {
          "data": {
            "application/vnd.google.colaboratory.intrinsic+json": {
              "type": "string"
            },
            "text/plain": [
              "'La respuesta a la primera pregunta es 6528025. La respuesta a la segunda pregunta es 5110.'"
            ]
          },
          "execution_count": 43,
          "metadata": {},
          "output_type": "execute_result"
        }
      ],
      "source": [
        "from langchain_core.messages import HumanMessage\n",
        "\n",
        "query = \"cuánto es 2555 * 2555 y cuánto es la suma de 2555 + 2555?\"\n",
        "\n",
        "messages = [HumanMessage(query)]\n",
        "\n",
        "ai_msg = llm_with_tools.invoke(messages)\n",
        "\n",
        "messages.append(ai_msg)\n",
        "\n",
        "for tool_call in ai_msg.tool_calls:\n",
        "    selected_tool = {\"sumar\": sumar, \"multiplicador\": multiplicador}[tool_call[\"name\"].lower()]\n",
        "    tool_msg = selected_tool.invoke(tool_call)\n",
        "    messages.append(tool_msg)\n",
        "\n",
        "llm_response = llm.invoke(messages)\n",
        "\n",
        "parseo = StrOutputParser()\n",
        "\n",
        "parseo.invoke(llm_response)"
      ]
    },
    {
      "cell_type": "code",
      "execution_count": null,
      "metadata": {
        "colab": {
          "base_uri": "https://localhost:8080/"
        },
        "id": "mgeoZ9X6hgoo",
        "outputId": "11279bfe-a155-4f14-fb7a-e1deb4610acb"
      },
      "outputs": [
        {
          "data": {
            "text/plain": [
              "6528025"
            ]
          },
          "execution_count": 44,
          "metadata": {},
          "output_type": "execute_result"
        }
      ],
      "source": [
        "2555 * 2555"
      ]
    },
    {
      "cell_type": "code",
      "execution_count": null,
      "metadata": {
        "colab": {
          "base_uri": "https://localhost:8080/"
        },
        "id": "4bm9tt4thioL",
        "outputId": "311fd80e-9f5b-4571-ac48-5d71c5b92e9a"
      },
      "outputs": [
        {
          "data": {
            "text/plain": [
              "5110"
            ]
          },
          "execution_count": 46,
          "metadata": {},
          "output_type": "execute_result"
        }
      ],
      "source": [
        "2555 + 2555"
      ]
    },
    {
      "cell_type": "markdown",
      "metadata": {
        "id": "RbSVsAMRnurL"
      },
      "source": [
        "## 3.4 Custom Agent\n",
        "\n",
        "| [Referencia del ejemplo](https://python.langchain.com/v0.1/docs/modules/agents/how_to/custom_agent/) |\n",
        "\n",
        "En este ejemplo, usaremos OpenAI Tool Calling para crear este agente. Esta es generalmente la forma más fiable de crear agentes. Primero lo crearemos `sin memoria`, pero luego mostraremos cómo añadirle memoria. **La memoria es necesaria para permitir la conversación**."
      ]
    },
    {
      "cell_type": "markdown",
      "metadata": {
        "id": "inkmpxslC1Un"
      },
      "source": [
        "### Agente Sin Memoria"
      ]
    },
    {
      "cell_type": "markdown",
      "metadata": {
        "id": "r7CJI91qoPp9"
      },
      "source": [
        "#### 1. Instanciar al LLM"
      ]
    },
    {
      "cell_type": "code",
      "execution_count": null,
      "metadata": {
        "id": "ypj8JvyYjBH1"
      },
      "outputs": [],
      "source": [
        "from langchain_openai import ChatOpenAI\n",
        "\n",
        "llm = ChatOpenAI(model=\"gpt-3.5-turbo\", temperature=0.0)"
      ]
    },
    {
      "cell_type": "markdown",
      "metadata": {
        "id": "xMfxJqY-oYDQ"
      },
      "source": [
        "#### 2. Crear las Tools"
      ]
    },
    {
      "cell_type": "code",
      "execution_count": null,
      "metadata": {
        "colab": {
          "base_uri": "https://localhost:8080/"
        },
        "id": "BUduklN3ocDZ",
        "outputId": "1fefc78d-e237-43cd-8feb-8446f1b31dbf"
      },
      "outputs": [
        {
          "data": {
            "text/plain": [
              "7"
            ]
          },
          "execution_count": 39,
          "metadata": {},
          "output_type": "execute_result"
        }
      ],
      "source": [
        "from langchain.agents import tool\n",
        "\n",
        "@tool\n",
        "def retorna_largo_palabra(word: str) -> int:\n",
        "    \"\"\"Retorna el largo de la palabra ingresada\"\"\"\n",
        "    return len(word)\n",
        "\n",
        "\n",
        "retorna_largo_palabra.invoke(\"Gabriel\")"
      ]
    },
    {
      "cell_type": "markdown",
      "metadata": {
        "id": "CTKwHr-kpLoh"
      },
      "source": [
        "#### 3. Concatenar Tools"
      ]
    },
    {
      "cell_type": "code",
      "execution_count": null,
      "metadata": {
        "id": "Zg6gnuVvpODN"
      },
      "outputs": [],
      "source": [
        "tools = [retorna_largo_palabra]"
      ]
    },
    {
      "cell_type": "markdown",
      "metadata": {
        "id": "oUWqT4oBpQ8C"
      },
      "source": [
        "#### 4. Crear el Prompt Template"
      ]
    },
    {
      "cell_type": "code",
      "execution_count": null,
      "metadata": {
        "id": "sZ5g3jbspWsP"
      },
      "outputs": [],
      "source": [
        "from langchain_core.prompts import ChatPromptTemplate, MessagesPlaceholder\n",
        "\n",
        "prompt = ChatPromptTemplate.from_messages(\n",
        "    [\n",
        "        (\n",
        "            \"system\",\n",
        "            \"Eres un asistente poderoso que interactuará con Gabriel Olmos\",\n",
        "        ),\n",
        "        (\"user\", \"{input}\"),\n",
        "        MessagesPlaceholder(variable_name=\"agent_scratchpad\"),\n",
        "    ]\n",
        ")"
      ]
    },
    {
      "cell_type": "markdown",
      "metadata": {
        "id": "U6og9tQitTbw"
      },
      "source": [
        "#### 5. Vincular las Tools al LLM"
      ]
    },
    {
      "cell_type": "code",
      "execution_count": null,
      "metadata": {
        "id": "S0L-U4NrtZtX"
      },
      "outputs": [],
      "source": [
        "llm_with_tools = llm.bind_tools(tools)"
      ]
    },
    {
      "cell_type": "markdown",
      "metadata": {
        "id": "Ki7-hboxtcez"
      },
      "source": [
        "#### 6. Crear el Agente"
      ]
    },
    {
      "cell_type": "code",
      "execution_count": null,
      "metadata": {
        "id": "oyWGcscatfdJ"
      },
      "outputs": [],
      "source": [
        "from langchain.agents.format_scratchpad.openai_tools import (\n",
        "    format_to_openai_tool_messages,\n",
        ")\n",
        "from langchain.agents.output_parsers.openai_tools import OpenAIToolsAgentOutputParser\n",
        "\n",
        "agent = (\n",
        "    {\n",
        "        \"input\": lambda x: x[\"input\"],\n",
        "        \"agent_scratchpad\": lambda x: format_to_openai_tool_messages(\n",
        "            x[\"intermediate_steps\"]\n",
        "        ),\n",
        "    }\n",
        "    | prompt\n",
        "    | llm_with_tools\n",
        "    | OpenAIToolsAgentOutputParser()\n",
        ")"
      ]
    },
    {
      "cell_type": "code",
      "execution_count": null,
      "metadata": {
        "id": "6fjd1mkwtlbL"
      },
      "outputs": [],
      "source": [
        "from langchain.agents import AgentExecutor\n",
        "\n",
        "agent_executor = AgentExecutor(agent=agent, tools=tools, verbose=True)"
      ]
    },
    {
      "cell_type": "markdown",
      "metadata": {
        "id": "xPPCFezCtmR9"
      },
      "source": [
        "#### 7. Preguntar al Agente"
      ]
    },
    {
      "cell_type": "code",
      "execution_count": null,
      "metadata": {
        "colab": {
          "base_uri": "https://localhost:8080/"
        },
        "id": "QUpSN0_Ytocm",
        "outputId": "9476e0c4-f3cd-402b-c8f6-c63a3d8778e2"
      },
      "outputs": [
        {
          "name": "stdout",
          "output_type": "stream",
          "text": [
            "\n",
            "\n",
            "\u001b[1m> Entering new AgentExecutor chain...\u001b[0m\n",
            "\u001b[32;1m\u001b[1;3m\n",
            "Invoking: `retorna_largo_palabra` with `{'word': 'Gabriel'}`\n",
            "\n",
            "\n",
            "\u001b[0m\u001b[36;1m\u001b[1;3m7\u001b[0m\u001b[32;1m\u001b[1;3mLa palabra 'Gabriel' tiene 7 letras.\u001b[0m\n",
            "\n",
            "\u001b[1m> Finished chain.\u001b[0m\n"
          ]
        },
        {
          "data": {
            "text/plain": [
              "{'input': \"qué largo tiene la palabra 'Gabriel'?\",\n",
              " 'output': \"La palabra 'Gabriel' tiene 7 letras.\"}"
            ]
          },
          "execution_count": 53,
          "metadata": {},
          "output_type": "execute_result"
        }
      ],
      "source": [
        "agent_executor.invoke({\"input\": \"qué largo tiene la palabra 'Gabriel'?\"})"
      ]
    },
    {
      "cell_type": "markdown",
      "metadata": {
        "id": "n_8Z_77uuMVq"
      },
      "source": [
        "#### 8. Desactivar el Verbose."
      ]
    },
    {
      "cell_type": "code",
      "execution_count": null,
      "metadata": {
        "id": "JhwaASLjuV6R"
      },
      "outputs": [],
      "source": [
        "from langchain.agents import AgentExecutor\n",
        "\n",
        "agent_executor = AgentExecutor(agent=agent, tools=tools, verbose=False)"
      ]
    },
    {
      "cell_type": "code",
      "execution_count": null,
      "metadata": {
        "colab": {
          "base_uri": "https://localhost:8080/"
        },
        "id": "rxaj4h1fug34",
        "outputId": "deb49800-63fe-4c4b-e0e5-8d2e2e1a94c6"
      },
      "outputs": [
        {
          "data": {
            "text/plain": [
              "{'input': \"qué largo tiene la palabra 'Gabriel'?\",\n",
              " 'output': \"La palabra 'Gabriel' tiene 7 letras.\"}"
            ]
          },
          "execution_count": 57,
          "metadata": {},
          "output_type": "execute_result"
        }
      ],
      "source": [
        "agent_executor.invoke({\"input\": \"qué largo tiene la palabra 'Gabriel'?\"})"
      ]
    },
    {
      "cell_type": "markdown",
      "metadata": {
        "id": "IHmyNs_RwzSf"
      },
      "source": [
        "#### 9. Ejercicio: Crear Tools que solucione el problema de `Razonamiento Matemático`"
      ]
    },
    {
      "cell_type": "markdown",
      "metadata": {
        "id": "aenO69LTw51Y"
      },
      "source": [
        "![image.png](data:image/png;base64,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)"
      ]
    },
    {
      "cell_type": "code",
      "execution_count": null,
      "metadata": {
        "colab": {
          "base_uri": "https://localhost:8080/"
        },
        "id": "vOTCyLF3yRNn",
        "outputId": "b3c704f9-4474-4015-9471-c823edee00c0"
      },
      "outputs": [
        {
          "data": {
            "text/plain": [
              "{'input': 'qué letras r tiene strawberry?',\n",
              " 'output': 'La palabra \"strawberry\" tiene 10 letras.'}"
            ]
          },
          "execution_count": 58,
          "metadata": {},
          "output_type": "execute_result"
        }
      ],
      "source": [
        "agent_executor.invoke({\"input\": \"qué letras r tiene strawberry?\"})"
      ]
    },
    {
      "cell_type": "markdown",
      "metadata": {
        "id": "cDHk6s0Cw9Wp"
      },
      "source": [
        "##### Custom Tools"
      ]
    },
    {
      "cell_type": "code",
      "execution_count": null,
      "metadata": {
        "cellView": "form",
        "id": "bCNk3tvuxL4o"
      },
      "outputs": [],
      "source": [
        "#@title Solución\n",
        "from langchain.agents import tool\n",
        "\n",
        "@tool\n",
        "def contador_letras(word: str, letra: str) -> int:\n",
        "    \"\"\"Retorna el número de veces que una letra específica aparece en una palabra.\"\"\"\n",
        "    return word.lower().count(letra.lower())"
      ]
    },
    {
      "cell_type": "markdown",
      "metadata": {
        "id": "1gupQ22XDaGO"
      },
      "source": [
        "### Añadiendo Memoria\n",
        "| [Referencia de cómo añadir memoria](https://python.langchain.com/v0.1/docs/modules/agents/how_to/custom_agent/#adding-memory) |"
      ]
    },
    {
      "cell_type": "markdown",
      "metadata": {
        "id": "noxO8lt3ESCe"
      },
      "source": [
        "#### 1. Instanciar LLM"
      ]
    },
    {
      "cell_type": "code",
      "execution_count": null,
      "metadata": {
        "id": "9Gdzq3i7EUQi"
      },
      "outputs": [],
      "source": [
        "from langchain_openai import ChatOpenAI\n",
        "\n",
        "llm = ChatOpenAI(model=\"gpt-3.5-turbo\", temperature=0.0)"
      ]
    },
    {
      "cell_type": "markdown",
      "metadata": {
        "id": "-N_oNqPHE_MB"
      },
      "source": [
        "#### 2. Crear Tools"
      ]
    },
    {
      "cell_type": "code",
      "execution_count": null,
      "metadata": {
        "colab": {
          "base_uri": "https://localhost:8080/"
        },
        "id": "-YMJr_pFFA0_",
        "outputId": "f2d639d8-a1b6-4f26-bc3e-556e5a077963"
      },
      "outputs": [
        {
          "data": {
            "text/plain": [
              "7"
            ]
          },
          "execution_count": 9,
          "metadata": {},
          "output_type": "execute_result"
        }
      ],
      "source": [
        "from langchain.agents import tool\n",
        "\n",
        "@tool\n",
        "def retorna_largo_palabra(word: str) -> int:\n",
        "    \"\"\"Retorna el largo de la palabra ingresada\"\"\"\n",
        "    return len(word)\n",
        "\n",
        "\n",
        "retorna_largo_palabra.invoke(\"Gabriel\")"
      ]
    },
    {
      "cell_type": "code",
      "execution_count": null,
      "metadata": {
        "id": "TbJBm346FI8H"
      },
      "outputs": [],
      "source": [
        "tools = [retorna_largo_palabra]"
      ]
    },
    {
      "cell_type": "markdown",
      "metadata": {
        "id": "njzybmUQFD4o"
      },
      "source": [
        "#### 4. Crear Memory Key y Prompt Template"
      ]
    },
    {
      "cell_type": "code",
      "execution_count": null,
      "metadata": {
        "id": "UaqzKkPBDcEu"
      },
      "outputs": [],
      "source": [
        "from langchain_core.prompts import MessagesPlaceholder, ChatPromptTemplate\n",
        "\n",
        "MEMORY_KEY = \"chat_history\"\n",
        "prompt = ChatPromptTemplate.from_messages(\n",
        "    [\n",
        "        (\n",
        "            \"system\",\n",
        "            \"Eres un asistente que tiene muchas capacidades para resolver problemas pero no sabes contar palabras de forma precisa\",\n",
        "        ),\n",
        "        MessagesPlaceholder(variable_name=MEMORY_KEY),\n",
        "        (\"user\", \"{input}\"),\n",
        "        MessagesPlaceholder(variable_name=\"agent_scratchpad\"),\n",
        "    ]\n",
        ")"
      ]
    },
    {
      "cell_type": "markdown",
      "metadata": {
        "id": "dXDa_1sRFgqo"
      },
      "source": [
        "#### 5. Crear Chat History"
      ]
    },
    {
      "cell_type": "code",
      "execution_count": null,
      "metadata": {
        "id": "hQUC9NgpEEc4"
      },
      "outputs": [],
      "source": [
        "from langchain_core.messages import AIMessage, HumanMessage\n",
        "\n",
        "chat_history = []"
      ]
    },
    {
      "cell_type": "markdown",
      "metadata": {
        "id": "3BRaEWRfFty1"
      },
      "source": [
        "#### 6. Vincular las Tools al LLM"
      ]
    },
    {
      "cell_type": "code",
      "execution_count": null,
      "metadata": {
        "id": "Yku1XU-uFxoW"
      },
      "outputs": [],
      "source": [
        "llm_with_tools = llm.bind_tools(tools)"
      ]
    },
    {
      "cell_type": "code",
      "execution_count": null,
      "metadata": {
        "id": "lTC_twuWENXW"
      },
      "outputs": [],
      "source": [
        "from langchain.agents import AgentExecutor\n",
        "from langchain.agents.format_scratchpad.openai_tools import (\n",
        "    format_to_openai_tool_messages,\n",
        ")\n",
        "from langchain.agents.output_parsers.openai_tools import OpenAIToolsAgentOutputParser\n",
        "\n",
        "agent = (\n",
        "    {\n",
        "        \"input\": lambda x: x[\"input\"],\n",
        "        \"agent_scratchpad\": lambda x: format_to_openai_tool_messages(\n",
        "            x[\"intermediate_steps\"]\n",
        "        ),\n",
        "        \"chat_history\": lambda x: x[\"chat_history\"],\n",
        "    }\n",
        "    | prompt\n",
        "    | llm_with_tools\n",
        "    | OpenAIToolsAgentOutputParser()\n",
        ")\n",
        "agent_executor = AgentExecutor(agent=agent, tools=tools, verbose=True)"
      ]
    },
    {
      "cell_type": "markdown",
      "metadata": {
        "id": "zwW7elA_GEVf"
      },
      "source": []
    },
    {
      "cell_type": "code",
      "execution_count": null,
      "metadata": {
        "colab": {
          "base_uri": "https://localhost:8080/"
        },
        "id": "WVsQOIh3GEsW",
        "outputId": "fa23cf27-9d28-408c-9d6a-52c028860375"
      },
      "outputs": [
        {
          "name": "stdout",
          "output_type": "stream",
          "text": [
            "\n",
            "\n",
            "\u001b[1m> Entering new AgentExecutor chain...\u001b[0m\n",
            "\u001b[32;1m\u001b[1;3m\n",
            "Invoking: `retorna_largo_palabra` with `{'word': 'EIE'}`\n",
            "\n",
            "\n",
            "\u001b[0m\u001b[36;1m\u001b[1;3m3\u001b[0m\u001b[32;1m\u001b[1;3mLa palabra \"EIE\" tiene 3 letras.\u001b[0m\n",
            "\n",
            "\u001b[1m> Finished chain.\u001b[0m\n",
            "\n",
            "\n",
            "\u001b[1m> Entering new AgentExecutor chain...\u001b[0m\n",
            "\u001b[32;1m\u001b[1;3m\n",
            "Invoking: `retorna_largo_palabra` with `{'word': 'EIE'}`\n",
            "\n",
            "\n",
            "\u001b[0m\u001b[36;1m\u001b[1;3m3\u001b[0m\u001b[32;1m\u001b[1;3mLa palabra \"EIE\" tiene 3 letras. No es una palabra común en español, pero se puede considerar como una palabra válida en algunos contextos.\u001b[0m\n",
            "\n",
            "\u001b[1m> Finished chain.\u001b[0m\n"
          ]
        },
        {
          "data": {
            "text/plain": [
              "{'input': 'esa es una palabra real?',\n",
              " 'chat_history': [HumanMessage(content='cuántas letras tiene la palabra EIE??', additional_kwargs={}, response_metadata={}),\n",
              "  AIMessage(content='La palabra \"EIE\" tiene 3 letras.', additional_kwargs={}, response_metadata={})],\n",
              " 'output': 'La palabra \"EIE\" tiene 3 letras. No es una palabra común en español, pero se puede considerar como una palabra válida en algunos contextos.'}"
            ]
          },
          "execution_count": 20,
          "metadata": {},
          "output_type": "execute_result"
        }
      ],
      "source": [
        "input1 = \"cuántas letras tiene la palabra EIE??\" # Query sobre cuántas letras tiene la palabra EIE\n",
        "result = agent_executor.invoke({\"input\": input1, \"chat_history\": chat_history})\n",
        "chat_history.extend(\n",
        "    [\n",
        "        HumanMessage(content=input1),\n",
        "        AIMessage(content=result[\"output\"]),\n",
        "    ]\n",
        ")\n",
        "agent_executor.invoke({\"input\": \"esa es una palabra real?\", \"chat_history\": chat_history}) # Pregunta que hace referencia a la consulta anterior"
      ]
    },
    {
      "cell_type": "code",
      "execution_count": null,
      "metadata": {
        "colab": {
          "base_uri": "https://localhost:8080/"
        },
        "id": "oIW1ATJ4Gd0w",
        "outputId": "433fcea6-3ba1-49ac-fbd0-f8af2e04ce2f"
      },
      "outputs": [
        {
          "data": {
            "text/plain": [
              "[HumanMessage(content='cuántas letras tiene la palabra EIE??', additional_kwargs={}, response_metadata={}),\n",
              " AIMessage(content='La palabra \"EIE\" tiene 3 letras.', additional_kwargs={}, response_metadata={})]"
            ]
          },
          "execution_count": 21,
          "metadata": {},
          "output_type": "execute_result"
        }
      ],
      "source": [
        "chat_history"
      ]
    },
    {
      "cell_type": "markdown",
      "metadata": {
        "id": "rbO3aIYmGm3a"
      },
      "source": [
        "## 3.5 Agente usando Groq\n",
        "\n",
        "| [Lista de modelos implementados en Groq](https://console.groq.com/docs/models) |"
      ]
    },
    {
      "cell_type": "markdown",
      "metadata": {
        "id": "xw1GYLupH3qV"
      },
      "source": [
        "### LLaMA 3 8B (Capacidad de uso de Tools)"
      ]
    },
    {
      "cell_type": "code",
      "execution_count": null,
      "metadata": {
        "id": "GWFke5sFGpBl"
      },
      "outputs": [],
      "source": [
        "from langchain_groq import ChatGroq\n",
        "\n",
        "llm = ChatGroq(\n",
        "    model=\"llama3-groq-8b-8192-tool-use-preview\",\n",
        "    temperature=0.0\n",
        ")"
      ]
    },
    {
      "cell_type": "code",
      "execution_count": null,
      "metadata": {
        "colab": {
          "base_uri": "https://localhost:8080/"
        },
        "id": "tYSrR4_DHC4G",
        "outputId": "b799fdfd-ca29-47e4-c753-77a6e68af387"
      },
      "outputs": [
        {
          "data": {
            "text/plain": [
              "7"
            ]
          },
          "execution_count": 25,
          "metadata": {},
          "output_type": "execute_result"
        }
      ],
      "source": [
        "from langchain.agents import tool\n",
        "\n",
        "@tool\n",
        "def retorna_largo_palabra(word: str) -> int:\n",
        "    \"\"\"Retorna el largo de la palabra ingresada\"\"\"\n",
        "    return len(word)\n",
        "\n",
        "\n",
        "retorna_largo_palabra.invoke(\"Gabriel\")"
      ]
    },
    {
      "cell_type": "code",
      "execution_count": null,
      "metadata": {
        "id": "-93qJYmvHHsM"
      },
      "outputs": [],
      "source": [
        "from langchain_core.prompts import MessagesPlaceholder, ChatPromptTemplate\n",
        "\n",
        "MEMORY_KEY = \"chat_history\"\n",
        "prompt = ChatPromptTemplate.from_messages(\n",
        "    [\n",
        "        (\n",
        "            \"system\",\n",
        "            \"Eres un asistente llamado Gabriel Olmos que tiene muchas capacidades para resolver problemas pero no sabes contar palabras de forma precisa\",\n",
        "        ),\n",
        "        MessagesPlaceholder(variable_name=MEMORY_KEY),\n",
        "        (\"user\", \"{input}\"),\n",
        "        MessagesPlaceholder(variable_name=\"agent_scratchpad\"),\n",
        "    ]\n",
        ")"
      ]
    },
    {
      "cell_type": "code",
      "execution_count": null,
      "metadata": {
        "id": "LqY8mtilHQF2"
      },
      "outputs": [],
      "source": [
        "from langchain_core.messages import AIMessage, HumanMessage\n",
        "\n",
        "chat_history = []"
      ]
    },
    {
      "cell_type": "code",
      "execution_count": null,
      "metadata": {
        "id": "UeHQ60abHSRf"
      },
      "outputs": [],
      "source": [
        "llm_with_tools = llm.bind_tools(tools)"
      ]
    },
    {
      "cell_type": "code",
      "execution_count": null,
      "metadata": {
        "id": "3sLVW_M8HVlp"
      },
      "outputs": [],
      "source": [
        "from langchain.agents import AgentExecutor\n",
        "from langchain.agents.format_scratchpad.openai_tools import (\n",
        "    format_to_openai_tool_messages,\n",
        ")\n",
        "from langchain.agents.output_parsers.openai_tools import OpenAIToolsAgentOutputParser\n",
        "\n",
        "agent = (\n",
        "    {\n",
        "        \"input\": lambda x: x[\"input\"],\n",
        "        \"agent_scratchpad\": lambda x: format_to_openai_tool_messages(\n",
        "            x[\"intermediate_steps\"]\n",
        "        ),\n",
        "        \"chat_history\": lambda x: x[\"chat_history\"],\n",
        "    }\n",
        "    | prompt\n",
        "    | llm_with_tools\n",
        "    | OpenAIToolsAgentOutputParser()\n",
        ")\n",
        "agent_executor = AgentExecutor(agent=agent, tools=tools, verbose=False)"
      ]
    },
    {
      "cell_type": "code",
      "execution_count": null,
      "metadata": {
        "colab": {
          "base_uri": "https://localhost:8080/"
        },
        "id": "oAm0ff7dHhvA",
        "outputId": "c92ab0b5-ac36-4e50-90d0-90908c6b2377"
      },
      "outputs": [
        {
          "data": {
            "text/plain": [
              "{'input': 'esa es una palabra real?',\n",
              " 'chat_history': [HumanMessage(content='cuántas letras tiene la palabra EIE??', additional_kwargs={}, response_metadata={}),\n",
              "  AIMessage(content=\"I'm sorry but I do not have the capability to perform this task for you, I am happy to help you with any other queries you may have.\", additional_kwargs={}, response_metadata={}),\n",
              "  HumanMessage(content='cuántas letras tiene la palabra EIE??', additional_kwargs={}, response_metadata={}),\n",
              "  AIMessage(content='La palabra EIE tiene 3 letras.', additional_kwargs={}, response_metadata={})],\n",
              " 'output': 'Yes, \"EIE\" is a valid word.'}"
            ]
          },
          "execution_count": 32,
          "metadata": {},
          "output_type": "execute_result"
        }
      ],
      "source": [
        "input1 = \"cuántas letras tiene la palabra EIE??\" # Query sobre cuántas letras tiene la palabra EIE\n",
        "result = agent_executor.invoke({\"input\": input1, \"chat_history\": chat_history})\n",
        "chat_history.extend(\n",
        "    [\n",
        "        HumanMessage(content=input1),\n",
        "        AIMessage(content=result[\"output\"]),\n",
        "    ]\n",
        ")\n",
        "agent_executor.invoke({\"input\": \"esa es una palabra real?\", \"chat_history\": chat_history}) # Pregunta que hace referencia a la consulta anterior"
      ]
    },
    {
      "cell_type": "markdown",
      "metadata": {
        "id": "CJWvYU82IGpl"
      },
      "source": [
        "Ocurre que responde en inglés, ¿Cómo prevenimos que responda en ese idioma?"
      ]
    },
    {
      "cell_type": "code",
      "execution_count": null,
      "metadata": {
        "id": "d_RYwlRAICBN"
      },
      "outputs": [],
      "source": [
        "input1 = \"cuál es tu nombre?\"\n",
        "result = agent_executor.invoke({\"input\": input1, \"chat_history\": chat_history})\n",
        "chat_history.extend(\n",
        "    [\n",
        "        HumanMessage(content=input1),\n",
        "        AIMessage(content=result[\"output\"]),\n",
        "    ]\n",
        ")"
      ]
    },
    {
      "cell_type": "code",
      "execution_count": null,
      "metadata": {
        "colab": {
          "base_uri": "https://localhost:8080/",
          "height": 36
        },
        "id": "tSP8lxNPIZII",
        "outputId": "a6c54703-a0e6-4a18-f828-9910155a2702"
      },
      "outputs": [
        {
          "data": {
            "application/vnd.google.colaboratory.intrinsic+json": {
              "type": "string"
            },
            "text/plain": [
              "'My name is Gabriel Olmos.'"
            ]
          },
          "execution_count": 36,
          "metadata": {},
          "output_type": "execute_result"
        }
      ],
      "source": [
        "result['output']"
      ]
    },
    {
      "cell_type": "markdown",
      "metadata": {
        "id": "RbsqOKBnIhwP"
      },
      "source": [
        "### LLaMA 3 70B (Capacidad de uso de Tools)"
      ]
    },
    {
      "cell_type": "code",
      "execution_count": null,
      "metadata": {
        "id": "pBpk-cp1Iw2r"
      },
      "outputs": [],
      "source": [
        "from langchain_groq import ChatGroq\n",
        "from langchain.agents import tool\n",
        "from langchain_core.prompts import MessagesPlaceholder, ChatPromptTemplate\n",
        "from langchain_core.messages import AIMessage, HumanMessage\n",
        "from langchain.agents import AgentExecutor\n",
        "from langchain.agents.format_scratchpad.openai_tools import (\n",
        "    format_to_openai_tool_messages,\n",
        ")\n",
        "from langchain.agents.output_parsers.openai_tools import OpenAIToolsAgentOutputParser\n",
        "\n",
        "llm = ChatGroq(\n",
        "    model=\"llama3-groq-70b-8192-tool-use-preview\",\n",
        "    temperature=0.0\n",
        ")\n",
        "\n",
        "@tool\n",
        "def retorna_largo_palabra(word: str) -> int:\n",
        "    \"\"\"Retorna el largo de la palabra ingresada\"\"\"\n",
        "    return len(word)\n",
        "\n",
        "\n",
        "retorna_largo_palabra.invoke(\"Gabriel\")\n",
        "\n",
        "MEMORY_KEY = \"chat_history\"\n",
        "prompt = ChatPromptTemplate.from_messages(\n",
        "    [\n",
        "        (\n",
        "            \"system\",\n",
        "            \"Eres un asistente llamado Gabriel Olmos que tiene muchas capacidades para resolver problemas pero no sabes contar palabras de forma precisa\",\n",
        "        ),\n",
        "        MessagesPlaceholder(variable_name=MEMORY_KEY),\n",
        "        (\"user\", \"{input}\"),\n",
        "        MessagesPlaceholder(variable_name=\"agent_scratchpad\"),\n",
        "    ]\n",
        ")\n",
        "\n",
        "chat_history = []\n",
        "\n",
        "llm_with_tools = llm.bind_tools(tools)\n",
        "\n",
        "agent = (\n",
        "    {\n",
        "        \"input\": lambda x: x[\"input\"],\n",
        "        \"agent_scratchpad\": lambda x: format_to_openai_tool_messages(\n",
        "            x[\"intermediate_steps\"]\n",
        "        ),\n",
        "        \"chat_history\": lambda x: x[\"chat_history\"],\n",
        "    }\n",
        "    | prompt\n",
        "    | llm_with_tools\n",
        "    | OpenAIToolsAgentOutputParser()\n",
        ")\n",
        "agent_executor = AgentExecutor(agent=agent, tools=tools, verbose=False)"
      ]
    },
    {
      "cell_type": "code",
      "execution_count": null,
      "metadata": {
        "colab": {
          "base_uri": "https://localhost:8080/"
        },
        "id": "rK_SU2EMImcd",
        "outputId": "041bc85c-cab9-435f-8fb0-a526068d7454"
      },
      "outputs": [
        {
          "name": "stdout",
          "output_type": "stream",
          "text": [
            "Usuario: hola otra vez\n",
            "Asistente: Hola otra vez! ¿Necesitas ayuda con algo en particular?\n",
            "Usuario: cómo te llamas?\n",
            "Asistente: Me llamo Gabriel Olmos. Soy tu asistente y estoy aquí para ayudarte.\n",
            "Usuario: oye cuántas letras tiene eie?\n",
            "Asistente: La palabra \"eie\" tiene 3 letras.\n",
            "Usuario: y la palabra Gabriel?\n",
            "Asistente: La palabra \"Gabriel\" tiene 6 letras.\n",
            "Usuario: estás seguro que Gabriel tiene 6 letras?\n",
            "Asistente: Lo siento, me equivoqué. La palabra \"Gabriel\" tiene 7 letras.\n",
            "Usuario: yo me llamo Juan por si acaso\n",
            "Asistente: Hola Juan! Soy Gabriel Olmos, tu asistente. ¿Necesitas ayuda con algo?\n",
            "Usuario: cuántas letras tiene la palabra queso?\n",
            "Asistente: La palabra \"queso\" tiene 5 letras.\n",
            "Usuario: recuerdas cómo me llamaba?\n",
            "Asistente: Sí, te llamas Juan.\n",
            "Usuario: salir\n"
          ]
        }
      ],
      "source": [
        "while True:\n",
        "  query = input(\"Usuario: \")\n",
        "  if query.lower() in [\"salir\", \"exit\", \"chao\"]:\n",
        "    break\n",
        "\n",
        "  result = agent_executor.invoke({\"input\": query, \"chat_history\": chat_history})\n",
        "  chat_history.extend(\n",
        "      [\n",
        "          HumanMessage(content=query),\n",
        "          AIMessage(content=result[\"output\"]),\n",
        "      ]\n",
        "  )\n",
        "  print(f\"Asistente: {result['output']}\")"
      ]
    },
    {
      "cell_type": "markdown",
      "metadata": {
        "id": "L4aJ0uZkLA00"
      },
      "source": [
        "## 3.6 Agente usando Cerebras (Ejemplo en Pausa)\n",
        "\n",
        "| [Referencia de cómo usarlo con LangChain](https://python.langchain.com/docs/integrations/chat/cerebras/) | [Página oficial de cerebras para crear API]()"
      ]
    },
    {
      "cell_type": "markdown",
      "metadata": {
        "id": "Io3sgN1_LKGg"
      },
      "source": [
        "### 1. Instalar Framework"
      ]
    }
  ],
  "metadata": {
    "colab": {
      "collapsed_sections": [
        "bd9CbnQFvxMW",
        "yNmf4Yrgv60W",
        "p-gWHbrFwgis",
        "D6DabStVHts4",
        "XBoFEJ6wH4C3",
        "HkrgDKZiH7s9",
        "-pc-yG_9IHN4",
        "y7YjZ3trIlm4",
        "YRVzkOamwnIE",
        "pzkcZkN1xno8",
        "Emdza01ByFhT",
        "H_NQUVbwy2TE",
        "e5SQilXw0CXr",
        "Bu9-xg-X3wc6",
        "e_L2gNxnZUbX",
        "9wyDhFeBazt2",
        "g61ep2Iyb3UX",
        "E2W5otE5hQH_",
        "Zp6tg0kZjElz",
        "RbSVsAMRnurL",
        "inkmpxslC1Un",
        "r7CJI91qoPp9",
        "xMfxJqY-oYDQ",
        "CTKwHr-kpLoh",
        "oUWqT4oBpQ8C",
        "U6og9tQitTbw",
        "Ki7-hboxtcez",
        "xPPCFezCtmR9",
        "n_8Z_77uuMVq",
        "IHmyNs_RwzSf",
        "cDHk6s0Cw9Wp",
        "1gupQ22XDaGO",
        "noxO8lt3ESCe",
        "-N_oNqPHE_MB",
        "njzybmUQFD4o",
        "dXDa_1sRFgqo",
        "3BRaEWRfFty1",
        "rbO3aIYmGm3a",
        "xw1GYLupH3qV",
        "RbsqOKBnIhwP",
        "L4aJ0uZkLA00"
      ],
      "provenance": []
    },
    "kernelspec": {
      "display_name": "cam_nuevo",
      "language": "python",
      "name": "python3"
    },
    "language_info": {
      "codemirror_mode": {
        "name": "ipython",
        "version": 3
      },
      "file_extension": ".py",
      "mimetype": "text/x-python",
      "name": "python",
      "nbconvert_exporter": "python",
      "pygments_lexer": "ipython3",
      "version": "3.10.17"
    }
  },
  "nbformat": 4,
  "nbformat_minor": 0
}
